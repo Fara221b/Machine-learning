{
 "cells": [
  {
   "cell_type": "code",
   "execution_count": 1,
   "metadata": {},
   "outputs": [],
   "source": [
    "import glob\n",
    "import json\n",
    "import math\n",
    "import pandas as pd\n",
    "import numpy as np"
   ]
  },
  {
   "cell_type": "code",
   "execution_count": 2,
   "metadata": {},
   "outputs": [],
   "source": [
    "# files = glob.glob('../hadian_R_D/*/*.json',recursive = True)\n",
    "files = glob.glob('../Decision_tree/data_sample/*')\n",
    "raw_data = []\n",
    "data=[]\n",
    "raw_data = []\n",
    "data=[]"
   ]
  },
  {
   "cell_type": "code",
   "execution_count": 3,
   "metadata": {},
   "outputs": [],
   "source": [
    "for hit in files:\n",
    "     with open(hit) as f:\n",
    "            raw_data.append(json.load(f))"
   ]
  },
  {
   "cell_type": "code",
   "execution_count": 4,
   "metadata": {},
   "outputs": [
    {
     "data": {
      "text/plain": [
       "6549"
      ]
     },
     "execution_count": 4,
     "metadata": {},
     "output_type": "execute_result"
    }
   ],
   "source": [
    "len(raw_data)"
   ]
  },
  {
   "cell_type": "code",
   "execution_count": 5,
   "metadata": {},
   "outputs": [],
   "source": [
    "def stdev_N_1(list):\n",
    "    leng = len(list)\n",
    "    if leng==1:\n",
    "        leng=2\n",
    "    m = mean(list)\n",
    "    s_2=0\n",
    "    for num in list:\n",
    "         s_2 += (num - m)**2\n",
    "    s= math.sqrt(s_2/(leng -1))\n",
    "    return s"
   ]
  },
  {
   "cell_type": "code",
   "execution_count": 6,
   "metadata": {},
   "outputs": [],
   "source": [
    "def mean(list):\n",
    "    try :\n",
    "        avg = sum(list) / len(list)\n",
    "        return avg\n",
    "    except:\n",
    "        return -1"
   ]
  },
  {
   "cell_type": "code",
   "execution_count": 7,
   "metadata": {},
   "outputs": [],
   "source": [
    "def Max(list):\n",
    "    try:\n",
    "        return max(list)\n",
    "    except:\n",
    "        return -1"
   ]
  },
  {
   "cell_type": "code",
   "execution_count": 8,
   "metadata": {},
   "outputs": [],
   "source": [
    "def Min(list):\n",
    "    try:\n",
    "        return min(list)\n",
    "    except:\n",
    "        return -1"
   ]
  },
  {
   "cell_type": "code",
   "execution_count": 9,
   "metadata": {},
   "outputs": [],
   "source": [
    "def Features(dic):\n",
    "    \"\"\"\n",
    "    making featurs\n",
    "    input : output of Tshark command's as dict\n",
    "    :return: add fearturs key to dict\n",
    "    \"\"\"\n",
    "    #    variable for calculating featurse\n",
    "    send_packet_duration, send_packet_size, receive_packet_duration, receive_packet_size = [], [], [], []\n",
    "    send_time, receive_time = [], []\n",
    "\n",
    "    #   variable for calculating sequence of packets\n",
    "    no_send_packet, no_receive_packet, no_packet = 0, 0, 0\n",
    "    send_seq, receive_seq = 0, 0\n",
    "    sequence_send_packet, sequence_receive_packet = [], []\n",
    "   \n",
    "    for val in dic['packet_list']:\n",
    "        no_packet += 1\n",
    "        if val['direction'] == 0:  # send\n",
    "            if val['payload_size'] != 0 :\n",
    "                send_packet_size.append(val['payload_size'])\n",
    "            if len(send_time)>0:    \n",
    "                send_packet_duration.append(val['time'] - send_time[-1])\n",
    "                send_time.append(val['time'])\n",
    "            else:\n",
    "                send_time.append(val['time'])\n",
    "            \n",
    "\n",
    "            if no_packet - no_send_packet == 1:\n",
    "                send_seq += 1\n",
    "            else:\n",
    "                sequence_send_packet.append(send_seq)\n",
    "                send_seq = 1\n",
    "            no_send_packet = no_packet\n",
    "        if val['direction'] == 1:  # recieve\n",
    "            if val['payload_size'] != 0:\n",
    "                receive_packet_size.append(val['payload_size'])\n",
    "            if len(receive_time)>0:    \n",
    "                receive_packet_duration.append(val['time'] - receive_time[-1])\n",
    "                receive_time.append(val['time'])\n",
    "            else:\n",
    "                receive_time.append(val['time'])    \n",
    "                \n",
    "            \n",
    "\n",
    "\n",
    "\n",
    "            if no_packet - no_receive_packet == 1:\n",
    "                receive_seq += 1\n",
    "            else:\n",
    "                sequence_receive_packet.append(receive_seq)\n",
    "                receive_seq = 1\n",
    "            no_receive_packet = no_packet\n",
    "    sequence_send_packet.append(send_seq)\n",
    "    sequence_receive_packet.append(receive_seq)\n",
    "\n",
    "    dic['features'] = { \"tag\":dic['five_tuple']['tag'],\n",
    "                        \"port\" : dic['five_tuple']['dst_port'],\n",
    "                        \"l4proto\" : dic['five_tuple']['l4proto'],\n",
    "                        \"l7proto\" : dic['five_tuple']['l7proto'],\n",
    "                        \"avg_receive_packet_duration\": mean(receive_packet_duration),\n",
    "                        \"avg_receive_packet_size\":  mean(receive_packet_size),\n",
    "                        \"avg_send_packet_duration\": mean(send_packet_duration),\n",
    "                        \"avg_send_packet_size\": mean(send_packet_size),\n",
    "                        \"max_receive_packet_duration\": Max(receive_packet_duration),\n",
    "                        \"max_receive_packet_size\": Max(receive_packet_size),\n",
    "                        \"max_receive_sequence_packet_count\":Max(sequence_receive_packet),\n",
    "                        \"max_send_packet_duration\":  Max(send_packet_duration),\n",
    "                        \"max_send_packet_size\": Max(send_packet_size),\n",
    "                        \"max_send_sequence_packet_count\": Max(sequence_send_packet),\n",
    "                        \"min_receive_packet_duration\": Min(receive_packet_duration),\n",
    "                        \"min_receive_packet_size\": Min(receive_packet_size),\n",
    "                        \"min_send_packet_duration\": Min(send_packet_duration),\n",
    "                        \"min_send_packet_size\": Min(send_packet_size),\n",
    "                        \"stddev_receive_packet_duration\": stdev_N_1(receive_packet_duration),\n",
    "                        \"stddev_receive_packet_size\": stdev_N_1(receive_packet_size),\n",
    "                        \"stddev_send_packet_duration\": stdev_N_1(send_packet_duration),\n",
    "                        \"stddev_send_packet_size\": stdev_N_1(send_packet_size)}\n",
    "\n",
    "    return dic['features']"
   ]
  },
  {
   "cell_type": "code",
   "execution_count": 10,
   "metadata": {},
   "outputs": [],
   "source": [
    "for d in raw_data:\n",
    "    data.append(Features(d))"
   ]
  },
  {
   "cell_type": "code",
   "execution_count": 11,
   "metadata": {},
   "outputs": [],
   "source": [
    "df = pd.DataFrame(data)"
   ]
  },
  {
   "cell_type": "code",
   "execution_count": 12,
   "metadata": {},
   "outputs": [],
   "source": [
    "data ,raw_data=0,0"
   ]
  },
  {
   "cell_type": "code",
   "execution_count": 13,
   "metadata": {},
   "outputs": [
    {
     "data": {
      "text/html": [
       "<div>\n",
       "<style scoped>\n",
       "    .dataframe tbody tr th:only-of-type {\n",
       "        vertical-align: middle;\n",
       "    }\n",
       "\n",
       "    .dataframe tbody tr th {\n",
       "        vertical-align: top;\n",
       "    }\n",
       "\n",
       "    .dataframe thead th {\n",
       "        text-align: right;\n",
       "    }\n",
       "</style>\n",
       "<table border=\"1\" class=\"dataframe\">\n",
       "  <thead>\n",
       "    <tr style=\"text-align: right;\">\n",
       "      <th></th>\n",
       "      <th>tag</th>\n",
       "      <th>port</th>\n",
       "      <th>l4proto</th>\n",
       "      <th>l7proto</th>\n",
       "      <th>avg_receive_packet_duration</th>\n",
       "      <th>avg_receive_packet_size</th>\n",
       "      <th>avg_send_packet_duration</th>\n",
       "      <th>avg_send_packet_size</th>\n",
       "      <th>max_receive_packet_duration</th>\n",
       "      <th>max_receive_packet_size</th>\n",
       "      <th>...</th>\n",
       "      <th>max_send_packet_size</th>\n",
       "      <th>max_send_sequence_packet_count</th>\n",
       "      <th>min_receive_packet_duration</th>\n",
       "      <th>min_receive_packet_size</th>\n",
       "      <th>min_send_packet_duration</th>\n",
       "      <th>min_send_packet_size</th>\n",
       "      <th>stddev_receive_packet_duration</th>\n",
       "      <th>stddev_receive_packet_size</th>\n",
       "      <th>stddev_send_packet_duration</th>\n",
       "      <th>stddev_send_packet_size</th>\n",
       "    </tr>\n",
       "  </thead>\n",
       "  <tbody>\n",
       "    <tr>\n",
       "      <th>0</th>\n",
       "      <td>None</td>\n",
       "      <td>443</td>\n",
       "      <td>6</td>\n",
       "      <td>TLS</td>\n",
       "      <td>708.166667</td>\n",
       "      <td>874.500000</td>\n",
       "      <td>1343.750000</td>\n",
       "      <td>91.500000</td>\n",
       "      <td>2540</td>\n",
       "      <td>1288</td>\n",
       "      <td>...</td>\n",
       "      <td>214</td>\n",
       "      <td>2</td>\n",
       "      <td>0</td>\n",
       "      <td>262</td>\n",
       "      <td>0</td>\n",
       "      <td>24</td>\n",
       "      <td>1007.538072</td>\n",
       "      <td>458.788622</td>\n",
       "      <td>2143.566704</td>\n",
       "      <td>83.815273</td>\n",
       "    </tr>\n",
       "    <tr>\n",
       "      <th>1</th>\n",
       "      <td>None</td>\n",
       "      <td>443</td>\n",
       "      <td>6</td>\n",
       "      <td>TLS</td>\n",
       "      <td>101.250000</td>\n",
       "      <td>400.200000</td>\n",
       "      <td>148.714286</td>\n",
       "      <td>592.000000</td>\n",
       "      <td>276</td>\n",
       "      <td>1133</td>\n",
       "      <td>...</td>\n",
       "      <td>1037</td>\n",
       "      <td>2</td>\n",
       "      <td>0</td>\n",
       "      <td>27</td>\n",
       "      <td>1</td>\n",
       "      <td>200</td>\n",
       "      <td>129.302248</td>\n",
       "      <td>496.192201</td>\n",
       "      <td>127.963164</td>\n",
       "      <td>421.009501</td>\n",
       "    </tr>\n",
       "    <tr>\n",
       "      <th>2</th>\n",
       "      <td>None</td>\n",
       "      <td>443</td>\n",
       "      <td>6</td>\n",
       "      <td>TLS</td>\n",
       "      <td>64.166667</td>\n",
       "      <td>704.333333</td>\n",
       "      <td>2068.000000</td>\n",
       "      <td>273.666667</td>\n",
       "      <td>120</td>\n",
       "      <td>1381</td>\n",
       "      <td>...</td>\n",
       "      <td>464</td>\n",
       "      <td>2</td>\n",
       "      <td>0</td>\n",
       "      <td>151</td>\n",
       "      <td>2</td>\n",
       "      <td>48</td>\n",
       "      <td>51.673655</td>\n",
       "      <td>624.206163</td>\n",
       "      <td>5260.053073</td>\n",
       "      <td>210.238753</td>\n",
       "    </tr>\n",
       "    <tr>\n",
       "      <th>3</th>\n",
       "      <td>None</td>\n",
       "      <td>443</td>\n",
       "      <td>6</td>\n",
       "      <td>TLS</td>\n",
       "      <td>62.000000</td>\n",
       "      <td>94.500000</td>\n",
       "      <td>93.166667</td>\n",
       "      <td>205.000000</td>\n",
       "      <td>173</td>\n",
       "      <td>144</td>\n",
       "      <td>...</td>\n",
       "      <td>382</td>\n",
       "      <td>3</td>\n",
       "      <td>0</td>\n",
       "      <td>45</td>\n",
       "      <td>0</td>\n",
       "      <td>32</td>\n",
       "      <td>85.895285</td>\n",
       "      <td>70.003571</td>\n",
       "      <td>100.232563</td>\n",
       "      <td>175.034282</td>\n",
       "    </tr>\n",
       "    <tr>\n",
       "      <th>4</th>\n",
       "      <td>None</td>\n",
       "      <td>53</td>\n",
       "      <td>17</td>\n",
       "      <td>DNS</td>\n",
       "      <td>103.000000</td>\n",
       "      <td>-1.000000</td>\n",
       "      <td>5.000000</td>\n",
       "      <td>-1.000000</td>\n",
       "      <td>103</td>\n",
       "      <td>-1</td>\n",
       "      <td>...</td>\n",
       "      <td>-1</td>\n",
       "      <td>2</td>\n",
       "      <td>103</td>\n",
       "      <td>-1</td>\n",
       "      <td>5</td>\n",
       "      <td>-1</td>\n",
       "      <td>0.000000</td>\n",
       "      <td>-0.000000</td>\n",
       "      <td>0.000000</td>\n",
       "      <td>-0.000000</td>\n",
       "    </tr>\n",
       "  </tbody>\n",
       "</table>\n",
       "<p>5 rows × 22 columns</p>\n",
       "</div>"
      ],
      "text/plain": [
       "    tag  port  l4proto l7proto  avg_receive_packet_duration  \\\n",
       "0  None   443        6     TLS                   708.166667   \n",
       "1  None   443        6     TLS                   101.250000   \n",
       "2  None   443        6     TLS                    64.166667   \n",
       "3  None   443        6     TLS                    62.000000   \n",
       "4  None    53       17     DNS                   103.000000   \n",
       "\n",
       "   avg_receive_packet_size  avg_send_packet_duration  avg_send_packet_size  \\\n",
       "0               874.500000               1343.750000             91.500000   \n",
       "1               400.200000                148.714286            592.000000   \n",
       "2               704.333333               2068.000000            273.666667   \n",
       "3                94.500000                 93.166667            205.000000   \n",
       "4                -1.000000                  5.000000             -1.000000   \n",
       "\n",
       "   max_receive_packet_duration  max_receive_packet_size  ...  \\\n",
       "0                         2540                     1288  ...   \n",
       "1                          276                     1133  ...   \n",
       "2                          120                     1381  ...   \n",
       "3                          173                      144  ...   \n",
       "4                          103                       -1  ...   \n",
       "\n",
       "   max_send_packet_size  max_send_sequence_packet_count  \\\n",
       "0                   214                               2   \n",
       "1                  1037                               2   \n",
       "2                   464                               2   \n",
       "3                   382                               3   \n",
       "4                    -1                               2   \n",
       "\n",
       "   min_receive_packet_duration  min_receive_packet_size  \\\n",
       "0                            0                      262   \n",
       "1                            0                       27   \n",
       "2                            0                      151   \n",
       "3                            0                       45   \n",
       "4                          103                       -1   \n",
       "\n",
       "   min_send_packet_duration  min_send_packet_size  \\\n",
       "0                         0                    24   \n",
       "1                         1                   200   \n",
       "2                         2                    48   \n",
       "3                         0                    32   \n",
       "4                         5                    -1   \n",
       "\n",
       "   stddev_receive_packet_duration  stddev_receive_packet_size  \\\n",
       "0                     1007.538072                  458.788622   \n",
       "1                      129.302248                  496.192201   \n",
       "2                       51.673655                  624.206163   \n",
       "3                       85.895285                   70.003571   \n",
       "4                        0.000000                   -0.000000   \n",
       "\n",
       "   stddev_send_packet_duration  stddev_send_packet_size  \n",
       "0                  2143.566704                83.815273  \n",
       "1                   127.963164               421.009501  \n",
       "2                  5260.053073               210.238753  \n",
       "3                   100.232563               175.034282  \n",
       "4                     0.000000                -0.000000  \n",
       "\n",
       "[5 rows x 22 columns]"
      ]
     },
     "execution_count": 13,
     "metadata": {},
     "output_type": "execute_result"
    }
   ],
   "source": [
    "df.head()"
   ]
  },
  {
   "cell_type": "code",
   "execution_count": 14,
   "metadata": {},
   "outputs": [
    {
     "name": "stdout",
     "output_type": "stream",
     "text": [
      "<class 'pandas.core.frame.DataFrame'>\n",
      "RangeIndex: 6549 entries, 0 to 6548\n",
      "Data columns (total 22 columns):\n",
      " #   Column                             Non-Null Count  Dtype  \n",
      "---  ------                             --------------  -----  \n",
      " 0   tag                                341 non-null    object \n",
      " 1   port                               6549 non-null   int64  \n",
      " 2   l4proto                            6549 non-null   int64  \n",
      " 3   l7proto                            6549 non-null   object \n",
      " 4   avg_receive_packet_duration        6549 non-null   float64\n",
      " 5   avg_receive_packet_size            6549 non-null   float64\n",
      " 6   avg_send_packet_duration           6549 non-null   float64\n",
      " 7   avg_send_packet_size               6549 non-null   float64\n",
      " 8   max_receive_packet_duration        6549 non-null   int64  \n",
      " 9   max_receive_packet_size            6549 non-null   int64  \n",
      " 10  max_receive_sequence_packet_count  6549 non-null   int64  \n",
      " 11  max_send_packet_duration           6549 non-null   int64  \n",
      " 12  max_send_packet_size               6549 non-null   int64  \n",
      " 13  max_send_sequence_packet_count     6549 non-null   int64  \n",
      " 14  min_receive_packet_duration        6549 non-null   int64  \n",
      " 15  min_receive_packet_size            6549 non-null   int64  \n",
      " 16  min_send_packet_duration           6549 non-null   int64  \n",
      " 17  min_send_packet_size               6549 non-null   int64  \n",
      " 18  stddev_receive_packet_duration     6549 non-null   float64\n",
      " 19  stddev_receive_packet_size         6549 non-null   float64\n",
      " 20  stddev_send_packet_duration        6549 non-null   float64\n",
      " 21  stddev_send_packet_size            6549 non-null   float64\n",
      "dtypes: float64(8), int64(12), object(2)\n",
      "memory usage: 1.1+ MB\n"
     ]
    }
   ],
   "source": [
    "df.info()"
   ]
  },
  {
   "cell_type": "code",
   "execution_count": 15,
   "metadata": {},
   "outputs": [],
   "source": [
    "# df['port'] = df['port'].astype('str')\n",
    "# df['port'] =  df['port'].astype('category')\n",
    "# df['l4proto'] = df['l4proto'].astype('str')\n",
    "df['l4proto'] = df['l4proto'].astype('category')\n",
    "df['l7proto'] = df['l7proto'].astype('category')"
   ]
  },
  {
   "cell_type": "code",
   "execution_count": 16,
   "metadata": {},
   "outputs": [],
   "source": [
    "# df['l7proto']=df['l7proto'].where(df['l7proto'].notnull(), None)\n",
    "df['l7proto'] = df['l7proto'].replace([''], ['null'])\n",
    "df['tag'] = df['tag'].replace([None], ['None'])"
   ]
  },
  {
   "cell_type": "code",
   "execution_count": 17,
   "metadata": {},
   "outputs": [
    {
     "data": {
      "text/plain": [
       "array(['TLS', 'DNS', 'HTTP', 'null', 'ESP'], dtype=object)"
      ]
     },
     "execution_count": 17,
     "metadata": {},
     "output_type": "execute_result"
    }
   ],
   "source": [
    "df['l7proto'].unique()"
   ]
  },
  {
   "cell_type": "code",
   "execution_count": 18,
   "metadata": {},
   "outputs": [
    {
     "data": {
      "text/plain": [
       "array([  443,    53,    80,  7230,    82,   809,  7275,  7500,  7070,\n",
       "       18459, 58195,  7626,  8800,   123,  5222, 17000,  9090,  8181,\n",
       "        3389,  2358, 42156, 49397,  8764,   810,  8765, 47447,  8085,\n",
       "        1313,  1433,  9031,   445,  1002,  7541,   811,   805, 60551,\n",
       "        9002,  5223,  1021, 10000, 31747,  7395,   504,  9826,  7795,\n",
       "        5228, 40093,  3478, 52607,  3289,   806,  9595, 48331,   807,\n",
       "       27028,   998, 12154,  8000, 19000,  5053,  8013,    88,  6006,\n",
       "        8443,   801,  5229,    22, 35294, 32100,  8070, 55071,  6674,\n",
       "        7825,   500, 23456,   993, 54204,  5245, 40784,  1818, 56119,\n",
       "        1194,  7072, 55125, 19562,  6568,  8080, 38840,  7006, 11393,\n",
       "        6105, 18760,  3128,   790,  8261,  3112,  3593,   804, 40870,\n",
       "        8900, 53708,   812, 39772, 22146, 42167,  5060, 40003, 20489,\n",
       "       48620, 51634,  8001, 31572,    84,  3030,  4425, 20002,  6615,\n",
       "       10315, 32154, 17777,  8700, 31944,  5694,  5800,  8089, 26312,\n",
       "        1884,   110, 15294, 22149,   803, 19777,   222,  3916,  7703,\n",
       "       12164, 49668,    25, 29914,  7432,  3358,  5600,  1311,   554,\n",
       "       50006,  4244, 57319,  4500, 56193, 16386, 56251,  1883,  3013,\n",
       "        5004, 49874, 16061,  6969, 44042, 43719,  1162, 42147,  9091,\n",
       "       11737,  3000,  1935, 23939,  4444, 39368, 33919, 14366, 20001,\n",
       "       17953, 24828,  7443,  2087,  9320, 14393, 59140,   543, 25404,\n",
       "        3481,   160, 42753, 26380, 17857, 17476, 48792,  9081, 11974,\n",
       "       22151,  9876, 57650,   444,   808,   802, 10020,  1414, 42161,\n",
       "       42168, 12168,  8877,  8989, 10012,  8220, 29424, 56247, 12152,\n",
       "       60101, 50001, 64303, 30190,  7394,  4828,  9339,   119, 52939,\n",
       "       29651,  6893, 12225])"
      ]
     },
     "execution_count": 18,
     "metadata": {},
     "output_type": "execute_result"
    }
   ],
   "source": [
    "df['port'].unique()"
   ]
  },
  {
   "cell_type": "code",
   "execution_count": 19,
   "metadata": {},
   "outputs": [
    {
     "data": {
      "text/plain": [
       "array(['None', 'instagram'], dtype=object)"
      ]
     },
     "execution_count": 19,
     "metadata": {},
     "output_type": "execute_result"
    }
   ],
   "source": [
    "df['tag'].unique()"
   ]
  },
  {
   "cell_type": "code",
   "execution_count": 20,
   "metadata": {},
   "outputs": [],
   "source": [
    "from sklearn.preprocessing import LabelEncoder\n",
    "labelencoder = LabelEncoder()\n",
    "# df['port_cat'] = labelencoder.fit_transform(df['port'])\n",
    "df['l4proto_cat'] = labelencoder.fit_transform(df['l4proto'])\n",
    "df['l7proto_cat'] = labelencoder.fit_transform(df['l7proto'])"
   ]
  },
  {
   "cell_type": "code",
   "execution_count": 21,
   "metadata": {},
   "outputs": [],
   "source": [
    "from sklearn.preprocessing import OneHotEncoder \n",
    "enc = OneHotEncoder(handle_unknown='ignore')\n",
    "# enc_port = pd.DataFrame(enc.fit_transform(df[['port_cat','l4proto_cat','l7proto_cat']]).toarray())\n",
    "enc_port = pd.DataFrame(enc.fit_transform(df[['l4proto_cat','l7proto_cat']]).toarray())\n",
    "df = df.join(enc_port)"
   ]
  },
  {
   "cell_type": "code",
   "execution_count": 22,
   "metadata": {},
   "outputs": [],
   "source": [
    "# df.drop('port_cat',inplace=True,axis=1)\n",
    "df.drop('l4proto_cat',inplace=True,axis=1)\n",
    "df.drop('l7proto_cat',inplace=True,axis=1)\n",
    "df.drop('l4proto',inplace=True,axis=1)\n",
    "df.drop('l7proto',inplace=True,axis=1)"
   ]
  },
  {
   "cell_type": "code",
   "execution_count": 23,
   "metadata": {},
   "outputs": [
    {
     "data": {
      "text/plain": [
       "Index([                              'tag',\n",
       "                                    'port',\n",
       "             'avg_receive_packet_duration',\n",
       "                 'avg_receive_packet_size',\n",
       "                'avg_send_packet_duration',\n",
       "                    'avg_send_packet_size',\n",
       "             'max_receive_packet_duration',\n",
       "                 'max_receive_packet_size',\n",
       "       'max_receive_sequence_packet_count',\n",
       "                'max_send_packet_duration',\n",
       "                    'max_send_packet_size',\n",
       "          'max_send_sequence_packet_count',\n",
       "             'min_receive_packet_duration',\n",
       "                 'min_receive_packet_size',\n",
       "                'min_send_packet_duration',\n",
       "                    'min_send_packet_size',\n",
       "          'stddev_receive_packet_duration',\n",
       "              'stddev_receive_packet_size',\n",
       "             'stddev_send_packet_duration',\n",
       "                 'stddev_send_packet_size',\n",
       "                                         0,\n",
       "                                         1,\n",
       "                                         2,\n",
       "                                         3,\n",
       "                                         4,\n",
       "                                         5,\n",
       "                                         6],\n",
       "      dtype='object')"
      ]
     },
     "execution_count": 23,
     "metadata": {},
     "output_type": "execute_result"
    }
   ],
   "source": [
    "df.columns"
   ]
  },
  {
   "cell_type": "code",
   "execution_count": 24,
   "metadata": {},
   "outputs": [
    {
     "data": {
      "text/html": [
       "<div>\n",
       "<style scoped>\n",
       "    .dataframe tbody tr th:only-of-type {\n",
       "        vertical-align: middle;\n",
       "    }\n",
       "\n",
       "    .dataframe tbody tr th {\n",
       "        vertical-align: top;\n",
       "    }\n",
       "\n",
       "    .dataframe thead th {\n",
       "        text-align: right;\n",
       "    }\n",
       "</style>\n",
       "<table border=\"1\" class=\"dataframe\">\n",
       "  <thead>\n",
       "    <tr style=\"text-align: right;\">\n",
       "      <th></th>\n",
       "      <th>tag</th>\n",
       "      <th>port</th>\n",
       "      <th>avg_receive_packet_duration</th>\n",
       "      <th>avg_receive_packet_size</th>\n",
       "      <th>avg_send_packet_duration</th>\n",
       "      <th>avg_send_packet_size</th>\n",
       "      <th>max_receive_packet_duration</th>\n",
       "      <th>max_receive_packet_size</th>\n",
       "      <th>max_receive_sequence_packet_count</th>\n",
       "      <th>max_send_packet_duration</th>\n",
       "      <th>...</th>\n",
       "      <th>stddev_receive_packet_size</th>\n",
       "      <th>stddev_send_packet_duration</th>\n",
       "      <th>stddev_send_packet_size</th>\n",
       "      <th>0</th>\n",
       "      <th>1</th>\n",
       "      <th>2</th>\n",
       "      <th>3</th>\n",
       "      <th>4</th>\n",
       "      <th>5</th>\n",
       "      <th>6</th>\n",
       "    </tr>\n",
       "  </thead>\n",
       "  <tbody>\n",
       "    <tr>\n",
       "      <th>0</th>\n",
       "      <td>None</td>\n",
       "      <td>443</td>\n",
       "      <td>708.166667</td>\n",
       "      <td>874.500000</td>\n",
       "      <td>1343.750000</td>\n",
       "      <td>91.500000</td>\n",
       "      <td>2540</td>\n",
       "      <td>1288</td>\n",
       "      <td>4</td>\n",
       "      <td>6500</td>\n",
       "      <td>...</td>\n",
       "      <td>458.788622</td>\n",
       "      <td>2143.566704</td>\n",
       "      <td>83.815273</td>\n",
       "      <td>1.0</td>\n",
       "      <td>0.0</td>\n",
       "      <td>0.0</td>\n",
       "      <td>0.0</td>\n",
       "      <td>0.0</td>\n",
       "      <td>1.0</td>\n",
       "      <td>0.0</td>\n",
       "    </tr>\n",
       "    <tr>\n",
       "      <th>1</th>\n",
       "      <td>None</td>\n",
       "      <td>443</td>\n",
       "      <td>101.250000</td>\n",
       "      <td>400.200000</td>\n",
       "      <td>148.714286</td>\n",
       "      <td>592.000000</td>\n",
       "      <td>276</td>\n",
       "      <td>1133</td>\n",
       "      <td>5</td>\n",
       "      <td>263</td>\n",
       "      <td>...</td>\n",
       "      <td>496.192201</td>\n",
       "      <td>127.963164</td>\n",
       "      <td>421.009501</td>\n",
       "      <td>1.0</td>\n",
       "      <td>0.0</td>\n",
       "      <td>0.0</td>\n",
       "      <td>0.0</td>\n",
       "      <td>0.0</td>\n",
       "      <td>1.0</td>\n",
       "      <td>0.0</td>\n",
       "    </tr>\n",
       "    <tr>\n",
       "      <th>2</th>\n",
       "      <td>None</td>\n",
       "      <td>443</td>\n",
       "      <td>64.166667</td>\n",
       "      <td>704.333333</td>\n",
       "      <td>2068.000000</td>\n",
       "      <td>273.666667</td>\n",
       "      <td>120</td>\n",
       "      <td>1381</td>\n",
       "      <td>3</td>\n",
       "      <td>13996</td>\n",
       "      <td>...</td>\n",
       "      <td>624.206163</td>\n",
       "      <td>5260.053073</td>\n",
       "      <td>210.238753</td>\n",
       "      <td>1.0</td>\n",
       "      <td>0.0</td>\n",
       "      <td>0.0</td>\n",
       "      <td>0.0</td>\n",
       "      <td>0.0</td>\n",
       "      <td>1.0</td>\n",
       "      <td>0.0</td>\n",
       "    </tr>\n",
       "    <tr>\n",
       "      <th>3</th>\n",
       "      <td>None</td>\n",
       "      <td>443</td>\n",
       "      <td>62.000000</td>\n",
       "      <td>94.500000</td>\n",
       "      <td>93.166667</td>\n",
       "      <td>205.000000</td>\n",
       "      <td>173</td>\n",
       "      <td>144</td>\n",
       "      <td>4</td>\n",
       "      <td>216</td>\n",
       "      <td>...</td>\n",
       "      <td>70.003571</td>\n",
       "      <td>100.232563</td>\n",
       "      <td>175.034282</td>\n",
       "      <td>1.0</td>\n",
       "      <td>0.0</td>\n",
       "      <td>0.0</td>\n",
       "      <td>0.0</td>\n",
       "      <td>0.0</td>\n",
       "      <td>1.0</td>\n",
       "      <td>0.0</td>\n",
       "    </tr>\n",
       "    <tr>\n",
       "      <th>4</th>\n",
       "      <td>None</td>\n",
       "      <td>53</td>\n",
       "      <td>103.000000</td>\n",
       "      <td>-1.000000</td>\n",
       "      <td>5.000000</td>\n",
       "      <td>-1.000000</td>\n",
       "      <td>103</td>\n",
       "      <td>-1</td>\n",
       "      <td>2</td>\n",
       "      <td>5</td>\n",
       "      <td>...</td>\n",
       "      <td>-0.000000</td>\n",
       "      <td>0.000000</td>\n",
       "      <td>-0.000000</td>\n",
       "      <td>0.0</td>\n",
       "      <td>1.0</td>\n",
       "      <td>1.0</td>\n",
       "      <td>0.0</td>\n",
       "      <td>0.0</td>\n",
       "      <td>0.0</td>\n",
       "      <td>0.0</td>\n",
       "    </tr>\n",
       "  </tbody>\n",
       "</table>\n",
       "<p>5 rows × 27 columns</p>\n",
       "</div>"
      ],
      "text/plain": [
       "    tag  port  avg_receive_packet_duration  avg_receive_packet_size  \\\n",
       "0  None   443                   708.166667               874.500000   \n",
       "1  None   443                   101.250000               400.200000   \n",
       "2  None   443                    64.166667               704.333333   \n",
       "3  None   443                    62.000000                94.500000   \n",
       "4  None    53                   103.000000                -1.000000   \n",
       "\n",
       "   avg_send_packet_duration  avg_send_packet_size  \\\n",
       "0               1343.750000             91.500000   \n",
       "1                148.714286            592.000000   \n",
       "2               2068.000000            273.666667   \n",
       "3                 93.166667            205.000000   \n",
       "4                  5.000000             -1.000000   \n",
       "\n",
       "   max_receive_packet_duration  max_receive_packet_size  \\\n",
       "0                         2540                     1288   \n",
       "1                          276                     1133   \n",
       "2                          120                     1381   \n",
       "3                          173                      144   \n",
       "4                          103                       -1   \n",
       "\n",
       "   max_receive_sequence_packet_count  max_send_packet_duration  ...  \\\n",
       "0                                  4                      6500  ...   \n",
       "1                                  5                       263  ...   \n",
       "2                                  3                     13996  ...   \n",
       "3                                  4                       216  ...   \n",
       "4                                  2                         5  ...   \n",
       "\n",
       "   stddev_receive_packet_size  stddev_send_packet_duration  \\\n",
       "0                  458.788622                  2143.566704   \n",
       "1                  496.192201                   127.963164   \n",
       "2                  624.206163                  5260.053073   \n",
       "3                   70.003571                   100.232563   \n",
       "4                   -0.000000                     0.000000   \n",
       "\n",
       "   stddev_send_packet_size    0    1    2    3    4    5    6  \n",
       "0                83.815273  1.0  0.0  0.0  0.0  0.0  1.0  0.0  \n",
       "1               421.009501  1.0  0.0  0.0  0.0  0.0  1.0  0.0  \n",
       "2               210.238753  1.0  0.0  0.0  0.0  0.0  1.0  0.0  \n",
       "3               175.034282  1.0  0.0  0.0  0.0  0.0  1.0  0.0  \n",
       "4                -0.000000  0.0  1.0  1.0  0.0  0.0  0.0  0.0  \n",
       "\n",
       "[5 rows x 27 columns]"
      ]
     },
     "execution_count": 24,
     "metadata": {},
     "output_type": "execute_result"
    }
   ],
   "source": [
    "df.head()"
   ]
  },
  {
   "cell_type": "code",
   "execution_count": 25,
   "metadata": {},
   "outputs": [],
   "source": [
    "array = df.values\n",
    "X = array[:,1:]\n",
    "Y = array[:,0]"
   ]
  },
  {
   "cell_type": "code",
   "execution_count": 26,
   "metadata": {},
   "outputs": [],
   "source": [
    "from sklearn.preprocessing import MinMaxScaler\n",
    "scaler = MinMaxScaler(feature_range=(0, 1))"
   ]
  },
  {
   "cell_type": "code",
   "execution_count": 27,
   "metadata": {},
   "outputs": [],
   "source": [
    "rescaledX = scaler.fit_transform(X)"
   ]
  },
  {
   "cell_type": "code",
   "execution_count": 28,
   "metadata": {},
   "outputs": [],
   "source": [
    "from sklearn.model_selection import train_test_split"
   ]
  },
  {
   "cell_type": "code",
   "execution_count": 29,
   "metadata": {},
   "outputs": [],
   "source": [
    "X_train, X_test, y_train, y_test = train_test_split( \n",
    "    rescaledX, Y, test_size = 0.3, random_state = 100)"
   ]
  },
  {
   "cell_type": "code",
   "execution_count": 30,
   "metadata": {},
   "outputs": [],
   "source": [
    "from sklearn.metrics import confusion_matrix, accuracy_score, classification_report"
   ]
  },
  {
   "cell_type": "code",
   "execution_count": 31,
   "metadata": {},
   "outputs": [
    {
     "data": {
      "text/plain": [
       "Text(0, 0.5, 'acc')"
      ]
     },
     "execution_count": 31,
     "metadata": {},
     "output_type": "execute_result"
    },
    {
     "data": {
      "image/png": "[encoded data removed]",
      "text/plain": [
       "<Figure size 720x504 with 1 Axes>"
      ]
     },
     "metadata": {
      "needs_background": "light"
     },
     "output_type": "display_data"
    }
   ],
   "source": [
    "from sklearn.neighbors import KNeighborsClassifier\n",
    "import matplotlib.pyplot as plt\n",
    "%matplotlib inline\n",
    "acc = []\n",
    "\n",
    "for a in range(1, 40):\n",
    "    k = a\n",
    "    knn = KNeighborsClassifier(n_neighbors=k)\n",
    "    knn.fit(X_train, y_train)\n",
    "    y_pred = knn.predict(X_test)\n",
    "    acc.append( accuracy_score(y_test,y_pred))\n",
    "\n",
    "plt.figure(figsize=(10, 7))\n",
    "plt.plot(range(1,40),acc,color='blue', linestyle='dashed', marker='o',\n",
    "         markerfacecolor='red', markersize=10)\n",
    "plt.title('Error Rate vs. K Value')\n",
    "plt.xlabel('K')\n",
    "plt.ylabel('acc')"
   ]
  },
  {
   "cell_type": "code",
   "execution_count": 32,
   "metadata": {},
   "outputs": [],
   "source": [
    "from sklearn.neighbors import KNeighborsClassifier\n",
    "k = 5\n",
    "knn = KNeighborsClassifier(n_neighbors=k)\n",
    "knn.fit(X_train, y_train)\n",
    "y_pred = knn.predict(X_test)"
   ]
  },
  {
   "cell_type": "code",
   "execution_count": 33,
   "metadata": {},
   "outputs": [
    {
     "data": {
      "text/plain": [
       "array([[1845,   21],\n",
       "       [  49,   50]])"
      ]
     },
     "execution_count": 33,
     "metadata": {},
     "output_type": "execute_result"
    }
   ],
   "source": [
    "confusion_matrix(y_test, y_pred)"
   ]
  },
  {
   "cell_type": "code",
   "execution_count": 34,
   "metadata": {},
   "outputs": [
    {
     "name": "stdout",
     "output_type": "stream",
     "text": [
      "              precision    recall  f1-score   support\n",
      "\n",
      "        None       0.97      0.99      0.98      1866\n",
      "   instagram       0.70      0.51      0.59        99\n",
      "\n",
      "    accuracy                           0.96      1965\n",
      "   macro avg       0.84      0.75      0.78      1965\n",
      "weighted avg       0.96      0.96      0.96      1965\n",
      "\n"
     ]
    }
   ],
   "source": [
    "print(classification_report(y_test, y_pred))"
   ]
  },
  {
   "cell_type": "code",
   "execution_count": null,
   "metadata": {},
   "outputs": [],
   "source": []
  },
  {
   "cell_type": "code",
   "execution_count": null,
   "metadata": {},
   "outputs": [],
   "source": []
  }
 ],
 "metadata": {
  "kernelspec": {
   "display_name": "Python 3",
   "language": "python",
   "name": "python3"
  },
  "language_info": {
   "codemirror_mode": {
    "name": "ipython",
    "version": 3
   },
   "file_extension": ".py",
   "mimetype": "text/x-python",
   "name": "python",
   "nbconvert_exporter": "python",
   "pygments_lexer": "ipython3",
   "version": "3.8.5"
  }
 },
 "nbformat": 4,
 "nbformat_minor": 4
}
