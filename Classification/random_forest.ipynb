{
 "cells": [
  {
   "cell_type": "code",
   "execution_count": 1,
   "metadata": {},
   "outputs": [],
   "source": [
    "import glob\n",
    "import json\n",
    "import math\n",
    "import pandas as pd\n",
    "import numpy as np"
   ]
  },
  {
   "cell_type": "code",
   "execution_count": 2,
   "metadata": {},
   "outputs": [],
   "source": [
    "# files = glob.glob('../Decision_tree/data_sample/*')\n",
    "files = glob.glob('../hadian_R_D/*/*.json',recursive = True)\n",
    "raw_data = []\n",
    "data=[]"
   ]
  },
  {
   "cell_type": "code",
   "execution_count": 3,
   "metadata": {},
   "outputs": [],
   "source": [
    "for hit in files:\n",
    "     with open(hit) as f:\n",
    "            raw_data.append(json.load(f))"
   ]
  },
  {
   "cell_type": "code",
   "execution_count": 4,
   "metadata": {},
   "outputs": [
    {
     "data": {
      "text/plain": [
       "583281"
      ]
     },
     "execution_count": 4,
     "metadata": {},
     "output_type": "execute_result"
    }
   ],
   "source": [
    "len(raw_data)"
   ]
  },
  {
   "cell_type": "code",
   "execution_count": 5,
   "metadata": {},
   "outputs": [],
   "source": [
    "def stdev_N_1(list):\n",
    "    leng = len(list)\n",
    "    if leng==1:\n",
    "        leng=2\n",
    "    m = mean(list)\n",
    "    s_2=0\n",
    "    for num in list:\n",
    "         s_2 += (num - m)**2\n",
    "    s= math.sqrt(s_2/(leng -1))\n",
    "    return s"
   ]
  },
  {
   "cell_type": "code",
   "execution_count": 6,
   "metadata": {},
   "outputs": [],
   "source": [
    "def mean(list):\n",
    "    try :\n",
    "        avg = sum(list) / len(list)\n",
    "        return avg\n",
    "    except:\n",
    "        return -1"
   ]
  },
  {
   "cell_type": "code",
   "execution_count": 7,
   "metadata": {},
   "outputs": [],
   "source": [
    "def Max(list):\n",
    "    try:\n",
    "        return max(list)\n",
    "    except:\n",
    "        return -1"
   ]
  },
  {
   "cell_type": "code",
   "execution_count": 8,
   "metadata": {},
   "outputs": [],
   "source": [
    "def Min(list):\n",
    "    try:\n",
    "        return min(list)\n",
    "    except:\n",
    "        return -1"
   ]
  },
  {
   "cell_type": "code",
   "execution_count": 9,
   "metadata": {},
   "outputs": [],
   "source": [
    "def Features(dic):\n",
    "    \"\"\"\n",
    "    making featurs\n",
    "    input : output of Tshark command's as dict\n",
    "    :return: add fearturs key to dict\n",
    "    \"\"\"\n",
    "    #    variable for calculating featurse\n",
    "    send_packet_duration, send_packet_size, receive_packet_duration, receive_packet_size = [], [], [], []\n",
    "    send_time, receive_time = [], []\n",
    "\n",
    "    #   variable for calculating sequence of packets\n",
    "    no_send_packet, no_receive_packet, no_packet = 0, 0, 0\n",
    "    send_seq, receive_seq = 0, 0\n",
    "    sequence_send_packet, sequence_receive_packet = [], []\n",
    "   \n",
    "    for val in dic['packet_list']:\n",
    "        no_packet += 1\n",
    "        if val['direction'] == 0:  # send\n",
    "            if val['payload_size'] != 0 :\n",
    "                send_packet_size.append(val['payload_size'])\n",
    "            if len(send_time)>0:    \n",
    "                send_packet_duration.append(val['time'] - send_time[-1])\n",
    "                send_time.append(val['time'])\n",
    "            else:\n",
    "                send_time.append(val['time'])\n",
    "            \n",
    "\n",
    "            if no_packet - no_send_packet == 1:\n",
    "                send_seq += 1\n",
    "            else:\n",
    "                sequence_send_packet.append(send_seq)\n",
    "                send_seq = 1\n",
    "            no_send_packet = no_packet\n",
    "        if val['direction'] == 1:  # recieve\n",
    "            if val['payload_size'] != 0:\n",
    "                receive_packet_size.append(val['payload_size'])\n",
    "            if len(receive_time)>0:    \n",
    "                receive_packet_duration.append(val['time'] - receive_time[-1])\n",
    "                receive_time.append(val['time'])\n",
    "            else:\n",
    "                receive_time.append(val['time'])    \n",
    "                \n",
    "            \n",
    "\n",
    "\n",
    "\n",
    "            if no_packet - no_receive_packet == 1:\n",
    "                receive_seq += 1\n",
    "            else:\n",
    "                sequence_receive_packet.append(receive_seq)\n",
    "                receive_seq = 1\n",
    "            no_receive_packet = no_packet\n",
    "    sequence_send_packet.append(send_seq)\n",
    "    sequence_receive_packet.append(receive_seq)\n",
    "\n",
    "    dic['features'] = { \"tag\":dic['five_tuple']['tag'],\n",
    "                        \"port\" : dic['five_tuple']['dst_port'],\n",
    "                        \"l4proto\" : dic['five_tuple']['l4proto'],\n",
    "                        \"l7proto\" : dic['five_tuple']['l7proto'],\n",
    "                        \"avg_receive_packet_duration\": mean(receive_packet_duration),\n",
    "                        \"avg_receive_packet_size\":  mean(receive_packet_size),\n",
    "                        \"avg_send_packet_duration\": mean(send_packet_duration),\n",
    "                        \"avg_send_packet_size\": mean(send_packet_size),\n",
    "                        \"max_receive_packet_duration\": Max(receive_packet_duration),\n",
    "                        \"max_receive_packet_size\": Max(receive_packet_size),\n",
    "                        \"max_receive_sequence_packet_count\":Max(sequence_receive_packet),\n",
    "                        \"max_send_packet_duration\":  Max(send_packet_duration),\n",
    "                        \"max_send_packet_size\": Max(send_packet_size),\n",
    "                        \"max_send_sequence_packet_count\": Max(sequence_send_packet),\n",
    "                        \"min_receive_packet_duration\": Min(receive_packet_duration),\n",
    "                        \"min_receive_packet_size\": Min(receive_packet_size),\n",
    "                        \"min_send_packet_duration\": Min(send_packet_duration),\n",
    "                        \"min_send_packet_size\": Min(send_packet_size),\n",
    "                        \"stddev_receive_packet_duration\": stdev_N_1(receive_packet_duration),\n",
    "                        \"stddev_receive_packet_size\": stdev_N_1(receive_packet_size),\n",
    "                        \"stddev_send_packet_duration\": stdev_N_1(send_packet_duration),\n",
    "                        \"stddev_send_packet_size\": stdev_N_1(send_packet_size)}\n",
    "\n",
    "    return dic['features']"
   ]
  },
  {
   "cell_type": "code",
   "execution_count": 10,
   "metadata": {},
   "outputs": [],
   "source": [
    "for d in raw_data:\n",
    "    data.append(Features(d))"
   ]
  },
  {
   "cell_type": "code",
   "execution_count": 11,
   "metadata": {},
   "outputs": [],
   "source": [
    "df = pd.DataFrame(data)"
   ]
  },
  {
   "cell_type": "code",
   "execution_count": 12,
   "metadata": {},
   "outputs": [
    {
     "data": {
      "text/html": [
       "<div>\n",
       "<style scoped>\n",
       "    .dataframe tbody tr th:only-of-type {\n",
       "        vertical-align: middle;\n",
       "    }\n",
       "\n",
       "    .dataframe tbody tr th {\n",
       "        vertical-align: top;\n",
       "    }\n",
       "\n",
       "    .dataframe thead th {\n",
       "        text-align: right;\n",
       "    }\n",
       "</style>\n",
       "<table border=\"1\" class=\"dataframe\">\n",
       "  <thead>\n",
       "    <tr style=\"text-align: right;\">\n",
       "      <th></th>\n",
       "      <th>tag</th>\n",
       "      <th>port</th>\n",
       "      <th>l4proto</th>\n",
       "      <th>l7proto</th>\n",
       "      <th>avg_receive_packet_duration</th>\n",
       "      <th>avg_receive_packet_size</th>\n",
       "      <th>avg_send_packet_duration</th>\n",
       "      <th>avg_send_packet_size</th>\n",
       "      <th>max_receive_packet_duration</th>\n",
       "      <th>max_receive_packet_size</th>\n",
       "      <th>...</th>\n",
       "      <th>max_send_packet_size</th>\n",
       "      <th>max_send_sequence_packet_count</th>\n",
       "      <th>min_receive_packet_duration</th>\n",
       "      <th>min_receive_packet_size</th>\n",
       "      <th>min_send_packet_duration</th>\n",
       "      <th>min_send_packet_size</th>\n",
       "      <th>stddev_receive_packet_duration</th>\n",
       "      <th>stddev_receive_packet_size</th>\n",
       "      <th>stddev_send_packet_duration</th>\n",
       "      <th>stddev_send_packet_size</th>\n",
       "    </tr>\n",
       "  </thead>\n",
       "  <tbody>\n",
       "    <tr>\n",
       "      <th>0</th>\n",
       "      <td>None</td>\n",
       "      <td>80</td>\n",
       "      <td>6</td>\n",
       "      <td>HTTP</td>\n",
       "      <td>333.000000</td>\n",
       "      <td>2.000000</td>\n",
       "      <td>266.600000</td>\n",
       "      <td>-1.000000</td>\n",
       "      <td>1058</td>\n",
       "      <td>2</td>\n",
       "      <td>...</td>\n",
       "      <td>-1</td>\n",
       "      <td>2</td>\n",
       "      <td>4</td>\n",
       "      <td>2</td>\n",
       "      <td>1</td>\n",
       "      <td>-1</td>\n",
       "      <td>489.558304</td>\n",
       "      <td>0.000000</td>\n",
       "      <td>488.100195</td>\n",
       "      <td>-0.000000</td>\n",
       "    </tr>\n",
       "    <tr>\n",
       "      <th>1</th>\n",
       "      <td>None</td>\n",
       "      <td>443</td>\n",
       "      <td>6</td>\n",
       "      <td>TLS</td>\n",
       "      <td>105.500000</td>\n",
       "      <td>994.769231</td>\n",
       "      <td>125.000000</td>\n",
       "      <td>172.000000</td>\n",
       "      <td>616</td>\n",
       "      <td>1398</td>\n",
       "      <td>...</td>\n",
       "      <td>291</td>\n",
       "      <td>10</td>\n",
       "      <td>0</td>\n",
       "      <td>32</td>\n",
       "      <td>0</td>\n",
       "      <td>33</td>\n",
       "      <td>185.555742</td>\n",
       "      <td>577.453195</td>\n",
       "      <td>257.188890</td>\n",
       "      <td>130.157597</td>\n",
       "    </tr>\n",
       "    <tr>\n",
       "      <th>2</th>\n",
       "      <td>None</td>\n",
       "      <td>80</td>\n",
       "      <td>6</td>\n",
       "      <td>HTTP</td>\n",
       "      <td>27.000000</td>\n",
       "      <td>-1.000000</td>\n",
       "      <td>28.250000</td>\n",
       "      <td>-1.000000</td>\n",
       "      <td>80</td>\n",
       "      <td>-1</td>\n",
       "      <td>...</td>\n",
       "      <td>-1</td>\n",
       "      <td>2</td>\n",
       "      <td>0</td>\n",
       "      <td>-1</td>\n",
       "      <td>0</td>\n",
       "      <td>-1</td>\n",
       "      <td>45.902070</td>\n",
       "      <td>-0.000000</td>\n",
       "      <td>22.396056</td>\n",
       "      <td>-0.000000</td>\n",
       "    </tr>\n",
       "    <tr>\n",
       "      <th>3</th>\n",
       "      <td>None</td>\n",
       "      <td>443</td>\n",
       "      <td>6</td>\n",
       "      <td>TLS</td>\n",
       "      <td>5113.214286</td>\n",
       "      <td>831.888889</td>\n",
       "      <td>844.272727</td>\n",
       "      <td>310.333333</td>\n",
       "      <td>62298</td>\n",
       "      <td>1388</td>\n",
       "      <td>...</td>\n",
       "      <td>517</td>\n",
       "      <td>6</td>\n",
       "      <td>0</td>\n",
       "      <td>32</td>\n",
       "      <td>0</td>\n",
       "      <td>33</td>\n",
       "      <td>16485.849103</td>\n",
       "      <td>636.195222</td>\n",
       "      <td>1273.025851</td>\n",
       "      <td>229.676874</td>\n",
       "    </tr>\n",
       "    <tr>\n",
       "      <th>4</th>\n",
       "      <td>None</td>\n",
       "      <td>443</td>\n",
       "      <td>6</td>\n",
       "      <td>TLS</td>\n",
       "      <td>161.428571</td>\n",
       "      <td>266.333333</td>\n",
       "      <td>161.000000</td>\n",
       "      <td>585.333333</td>\n",
       "      <td>411</td>\n",
       "      <td>730</td>\n",
       "      <td>...</td>\n",
       "      <td>1211</td>\n",
       "      <td>2</td>\n",
       "      <td>0</td>\n",
       "      <td>24</td>\n",
       "      <td>0</td>\n",
       "      <td>28</td>\n",
       "      <td>141.776652</td>\n",
       "      <td>401.684370</td>\n",
       "      <td>175.632734</td>\n",
       "      <td>594.452970</td>\n",
       "    </tr>\n",
       "  </tbody>\n",
       "</table>\n",
       "<p>5 rows × 22 columns</p>\n",
       "</div>"
      ],
      "text/plain": [
       "    tag  port  l4proto l7proto  avg_receive_packet_duration  \\\n",
       "0  None    80        6    HTTP                   333.000000   \n",
       "1  None   443        6     TLS                   105.500000   \n",
       "2  None    80        6    HTTP                    27.000000   \n",
       "3  None   443        6     TLS                  5113.214286   \n",
       "4  None   443        6     TLS                   161.428571   \n",
       "\n",
       "   avg_receive_packet_size  avg_send_packet_duration  avg_send_packet_size  \\\n",
       "0                 2.000000                266.600000             -1.000000   \n",
       "1               994.769231                125.000000            172.000000   \n",
       "2                -1.000000                 28.250000             -1.000000   \n",
       "3               831.888889                844.272727            310.333333   \n",
       "4               266.333333                161.000000            585.333333   \n",
       "\n",
       "   max_receive_packet_duration  max_receive_packet_size  ...  \\\n",
       "0                         1058                        2  ...   \n",
       "1                          616                     1398  ...   \n",
       "2                           80                       -1  ...   \n",
       "3                        62298                     1388  ...   \n",
       "4                          411                      730  ...   \n",
       "\n",
       "   max_send_packet_size  max_send_sequence_packet_count  \\\n",
       "0                    -1                               2   \n",
       "1                   291                              10   \n",
       "2                    -1                               2   \n",
       "3                   517                               6   \n",
       "4                  1211                               2   \n",
       "\n",
       "   min_receive_packet_duration  min_receive_packet_size  \\\n",
       "0                            4                        2   \n",
       "1                            0                       32   \n",
       "2                            0                       -1   \n",
       "3                            0                       32   \n",
       "4                            0                       24   \n",
       "\n",
       "   min_send_packet_duration  min_send_packet_size  \\\n",
       "0                         1                    -1   \n",
       "1                         0                    33   \n",
       "2                         0                    -1   \n",
       "3                         0                    33   \n",
       "4                         0                    28   \n",
       "\n",
       "   stddev_receive_packet_duration  stddev_receive_packet_size  \\\n",
       "0                      489.558304                    0.000000   \n",
       "1                      185.555742                  577.453195   \n",
       "2                       45.902070                   -0.000000   \n",
       "3                    16485.849103                  636.195222   \n",
       "4                      141.776652                  401.684370   \n",
       "\n",
       "   stddev_send_packet_duration  stddev_send_packet_size  \n",
       "0                   488.100195                -0.000000  \n",
       "1                   257.188890               130.157597  \n",
       "2                    22.396056                -0.000000  \n",
       "3                  1273.025851               229.676874  \n",
       "4                   175.632734               594.452970  \n",
       "\n",
       "[5 rows x 22 columns]"
      ]
     },
     "execution_count": 12,
     "metadata": {},
     "output_type": "execute_result"
    }
   ],
   "source": [
    "df.head()"
   ]
  },
  {
   "cell_type": "code",
   "execution_count": 13,
   "metadata": {},
   "outputs": [
    {
     "name": "stdout",
     "output_type": "stream",
     "text": [
      "<class 'pandas.core.frame.DataFrame'>\n",
      "RangeIndex: 583281 entries, 0 to 583280\n",
      "Data columns (total 22 columns):\n",
      " #   Column                             Non-Null Count   Dtype  \n",
      "---  ------                             --------------   -----  \n",
      " 0   tag                                32416 non-null   object \n",
      " 1   port                               583281 non-null  int64  \n",
      " 2   l4proto                            583281 non-null  int64  \n",
      " 3   l7proto                            583281 non-null  object \n",
      " 4   avg_receive_packet_duration        583281 non-null  float64\n",
      " 5   avg_receive_packet_size            583281 non-null  float64\n",
      " 6   avg_send_packet_duration           583281 non-null  float64\n",
      " 7   avg_send_packet_size               583281 non-null  float64\n",
      " 8   max_receive_packet_duration        583281 non-null  int64  \n",
      " 9   max_receive_packet_size            583281 non-null  int64  \n",
      " 10  max_receive_sequence_packet_count  583281 non-null  int64  \n",
      " 11  max_send_packet_duration           583281 non-null  int64  \n",
      " 12  max_send_packet_size               583281 non-null  int64  \n",
      " 13  max_send_sequence_packet_count     583281 non-null  int64  \n",
      " 14  min_receive_packet_duration        583281 non-null  int64  \n",
      " 15  min_receive_packet_size            583281 non-null  int64  \n",
      " 16  min_send_packet_duration           583281 non-null  int64  \n",
      " 17  min_send_packet_size               583281 non-null  int64  \n",
      " 18  stddev_receive_packet_duration     583281 non-null  float64\n",
      " 19  stddev_receive_packet_size         583281 non-null  float64\n",
      " 20  stddev_send_packet_duration        583281 non-null  float64\n",
      " 21  stddev_send_packet_size            583281 non-null  float64\n",
      "dtypes: float64(8), int64(12), object(2)\n",
      "memory usage: 97.9+ MB\n"
     ]
    }
   ],
   "source": [
    "df.info()"
   ]
  },
  {
   "cell_type": "code",
   "execution_count": 14,
   "metadata": {},
   "outputs": [],
   "source": [
    "# import matplotlib.pyplot as plt\n",
    "# %matplotlib inline\n",
    "\n",
    "# plt.matshow(df.corr())\n",
    "# plt.show()"
   ]
  },
  {
   "cell_type": "code",
   "execution_count": 15,
   "metadata": {},
   "outputs": [],
   "source": [
    "# df.corr()"
   ]
  },
  {
   "cell_type": "code",
   "execution_count": 16,
   "metadata": {},
   "outputs": [],
   "source": [
    "# df['port'] = df['port'].astype('str')\n",
    "# df['port'] =  df['port'].astype('category')\n",
    "# df['l4proto'] = df['l4proto'].astype('str')\n",
    "df['l4proto'] = df['l4proto'].astype('category')\n",
    "df['l7proto'] = df['l7proto'].astype('category')"
   ]
  },
  {
   "cell_type": "code",
   "execution_count": 17,
   "metadata": {},
   "outputs": [],
   "source": [
    "# df['l7proto']=df['l7proto'].where(df['l7proto'].notnull(), None)\n",
    "df['l7proto'] = df['l7proto'].replace([''], ['null'])\n",
    "df['tag'] = df['tag'].replace([None], ['None'])"
   ]
  },
  {
   "cell_type": "code",
   "execution_count": 18,
   "metadata": {},
   "outputs": [
    {
     "data": {
      "text/plain": [
       "array(['HTTP', 'TLS', 'null', 'DNS', 'ESP', 'L2TP', 'PPTP'], dtype=object)"
      ]
     },
     "execution_count": 18,
     "metadata": {},
     "output_type": "execute_result"
    }
   ],
   "source": [
    "df['l7proto'].unique()"
   ]
  },
  {
   "cell_type": "code",
   "execution_count": 19,
   "metadata": {},
   "outputs": [
    {
     "data": {
      "text/plain": [
       "array(['None', 'instagram'], dtype=object)"
      ]
     },
     "execution_count": 19,
     "metadata": {},
     "output_type": "execute_result"
    }
   ],
   "source": [
    "df['tag'].unique()"
   ]
  },
  {
   "cell_type": "code",
   "execution_count": 20,
   "metadata": {},
   "outputs": [],
   "source": [
    "from sklearn.preprocessing import LabelEncoder\n",
    "labelencoder = LabelEncoder()\n",
    "# df['port_cat'] = labelencoder.fit_transform(df['port'])\n",
    "df['l4proto_cat'] = labelencoder.fit_transform(df['l4proto'])\n",
    "df['l7proto_cat'] = labelencoder.fit_transform(df['l7proto'])"
   ]
  },
  {
   "cell_type": "code",
   "execution_count": 21,
   "metadata": {},
   "outputs": [],
   "source": [
    "from sklearn.preprocessing import OneHotEncoder \n",
    "enc = OneHotEncoder(handle_unknown='ignore')\n",
    "# enc_port = pd.DataFrame(enc.fit_transform(df[['port_cat','l4proto_cat','l7proto_cat']]).toarray())\n",
    "enc_port = pd.DataFrame(enc.fit_transform(df[['l4proto_cat','l7proto_cat']]).toarray())\n",
    "# enc_port = pd.DataFrame(enc.fit_transform(df[['l7proto_cat']]).toarray())\n",
    "df = df.join(enc_port)"
   ]
  },
  {
   "cell_type": "code",
   "execution_count": 22,
   "metadata": {},
   "outputs": [],
   "source": [
    "# df.drop('port_cat',inplace=True,axis=1)\n",
    "df.drop('l4proto_cat',inplace=True,axis=1)\n",
    "df.drop('l7proto_cat',inplace=True,axis=1)\n",
    "df.drop('l4proto',inplace=True,axis=1)\n",
    "df.drop('l7proto',inplace=True,axis=1)"
   ]
  },
  {
   "cell_type": "code",
   "execution_count": 23,
   "metadata": {},
   "outputs": [
    {
     "data": {
      "text/html": [
       "<div>\n",
       "<style scoped>\n",
       "    .dataframe tbody tr th:only-of-type {\n",
       "        vertical-align: middle;\n",
       "    }\n",
       "\n",
       "    .dataframe tbody tr th {\n",
       "        vertical-align: top;\n",
       "    }\n",
       "\n",
       "    .dataframe thead th {\n",
       "        text-align: right;\n",
       "    }\n",
       "</style>\n",
       "<table border=\"1\" class=\"dataframe\">\n",
       "  <thead>\n",
       "    <tr style=\"text-align: right;\">\n",
       "      <th></th>\n",
       "      <th>tag</th>\n",
       "      <th>port</th>\n",
       "      <th>avg_receive_packet_duration</th>\n",
       "      <th>avg_receive_packet_size</th>\n",
       "      <th>avg_send_packet_duration</th>\n",
       "      <th>avg_send_packet_size</th>\n",
       "      <th>max_receive_packet_duration</th>\n",
       "      <th>max_receive_packet_size</th>\n",
       "      <th>max_receive_sequence_packet_count</th>\n",
       "      <th>max_send_packet_duration</th>\n",
       "      <th>...</th>\n",
       "      <th>stddev_send_packet_size</th>\n",
       "      <th>0</th>\n",
       "      <th>1</th>\n",
       "      <th>2</th>\n",
       "      <th>3</th>\n",
       "      <th>4</th>\n",
       "      <th>5</th>\n",
       "      <th>6</th>\n",
       "      <th>7</th>\n",
       "      <th>8</th>\n",
       "    </tr>\n",
       "  </thead>\n",
       "  <tbody>\n",
       "    <tr>\n",
       "      <th>0</th>\n",
       "      <td>None</td>\n",
       "      <td>80</td>\n",
       "      <td>333.000000</td>\n",
       "      <td>2.000000</td>\n",
       "      <td>266.600000</td>\n",
       "      <td>-1.000000</td>\n",
       "      <td>1058</td>\n",
       "      <td>2</td>\n",
       "      <td>2</td>\n",
       "      <td>1136</td>\n",
       "      <td>...</td>\n",
       "      <td>-0.000000</td>\n",
       "      <td>1.0</td>\n",
       "      <td>0.0</td>\n",
       "      <td>0.0</td>\n",
       "      <td>0.0</td>\n",
       "      <td>1.0</td>\n",
       "      <td>0.0</td>\n",
       "      <td>0.0</td>\n",
       "      <td>0.0</td>\n",
       "      <td>0.0</td>\n",
       "    </tr>\n",
       "    <tr>\n",
       "      <th>1</th>\n",
       "      <td>None</td>\n",
       "      <td>443</td>\n",
       "      <td>105.500000</td>\n",
       "      <td>994.769231</td>\n",
       "      <td>125.000000</td>\n",
       "      <td>172.000000</td>\n",
       "      <td>616</td>\n",
       "      <td>1398</td>\n",
       "      <td>11</td>\n",
       "      <td>989</td>\n",
       "      <td>...</td>\n",
       "      <td>130.157597</td>\n",
       "      <td>1.0</td>\n",
       "      <td>0.0</td>\n",
       "      <td>0.0</td>\n",
       "      <td>0.0</td>\n",
       "      <td>0.0</td>\n",
       "      <td>0.0</td>\n",
       "      <td>0.0</td>\n",
       "      <td>1.0</td>\n",
       "      <td>0.0</td>\n",
       "    </tr>\n",
       "    <tr>\n",
       "      <th>2</th>\n",
       "      <td>None</td>\n",
       "      <td>80</td>\n",
       "      <td>27.000000</td>\n",
       "      <td>-1.000000</td>\n",
       "      <td>28.250000</td>\n",
       "      <td>-1.000000</td>\n",
       "      <td>80</td>\n",
       "      <td>-1</td>\n",
       "      <td>3</td>\n",
       "      <td>54</td>\n",
       "      <td>...</td>\n",
       "      <td>-0.000000</td>\n",
       "      <td>1.0</td>\n",
       "      <td>0.0</td>\n",
       "      <td>0.0</td>\n",
       "      <td>0.0</td>\n",
       "      <td>1.0</td>\n",
       "      <td>0.0</td>\n",
       "      <td>0.0</td>\n",
       "      <td>0.0</td>\n",
       "      <td>0.0</td>\n",
       "    </tr>\n",
       "    <tr>\n",
       "      <th>3</th>\n",
       "      <td>None</td>\n",
       "      <td>443</td>\n",
       "      <td>5113.214286</td>\n",
       "      <td>831.888889</td>\n",
       "      <td>844.272727</td>\n",
       "      <td>310.333333</td>\n",
       "      <td>62298</td>\n",
       "      <td>1388</td>\n",
       "      <td>4</td>\n",
       "      <td>4002</td>\n",
       "      <td>...</td>\n",
       "      <td>229.676874</td>\n",
       "      <td>1.0</td>\n",
       "      <td>0.0</td>\n",
       "      <td>0.0</td>\n",
       "      <td>0.0</td>\n",
       "      <td>0.0</td>\n",
       "      <td>0.0</td>\n",
       "      <td>0.0</td>\n",
       "      <td>1.0</td>\n",
       "      <td>0.0</td>\n",
       "    </tr>\n",
       "    <tr>\n",
       "      <th>4</th>\n",
       "      <td>None</td>\n",
       "      <td>443</td>\n",
       "      <td>161.428571</td>\n",
       "      <td>266.333333</td>\n",
       "      <td>161.000000</td>\n",
       "      <td>585.333333</td>\n",
       "      <td>411</td>\n",
       "      <td>730</td>\n",
       "      <td>2</td>\n",
       "      <td>549</td>\n",
       "      <td>...</td>\n",
       "      <td>594.452970</td>\n",
       "      <td>1.0</td>\n",
       "      <td>0.0</td>\n",
       "      <td>0.0</td>\n",
       "      <td>0.0</td>\n",
       "      <td>0.0</td>\n",
       "      <td>0.0</td>\n",
       "      <td>0.0</td>\n",
       "      <td>1.0</td>\n",
       "      <td>0.0</td>\n",
       "    </tr>\n",
       "  </tbody>\n",
       "</table>\n",
       "<p>5 rows × 29 columns</p>\n",
       "</div>"
      ],
      "text/plain": [
       "    tag port  avg_receive_packet_duration  avg_receive_packet_size  \\\n",
       "0  None   80                   333.000000                 2.000000   \n",
       "1  None  443                   105.500000               994.769231   \n",
       "2  None   80                    27.000000                -1.000000   \n",
       "3  None  443                  5113.214286               831.888889   \n",
       "4  None  443                   161.428571               266.333333   \n",
       "\n",
       "   avg_send_packet_duration  avg_send_packet_size  \\\n",
       "0                266.600000             -1.000000   \n",
       "1                125.000000            172.000000   \n",
       "2                 28.250000             -1.000000   \n",
       "3                844.272727            310.333333   \n",
       "4                161.000000            585.333333   \n",
       "\n",
       "   max_receive_packet_duration  max_receive_packet_size  \\\n",
       "0                         1058                        2   \n",
       "1                          616                     1398   \n",
       "2                           80                       -1   \n",
       "3                        62298                     1388   \n",
       "4                          411                      730   \n",
       "\n",
       "   max_receive_sequence_packet_count  max_send_packet_duration  ...  \\\n",
       "0                                  2                      1136  ...   \n",
       "1                                 11                       989  ...   \n",
       "2                                  3                        54  ...   \n",
       "3                                  4                      4002  ...   \n",
       "4                                  2                       549  ...   \n",
       "\n",
       "   stddev_send_packet_size    0    1    2    3    4    5    6    7    8  \n",
       "0                -0.000000  1.0  0.0  0.0  0.0  1.0  0.0  0.0  0.0  0.0  \n",
       "1               130.157597  1.0  0.0  0.0  0.0  0.0  0.0  0.0  1.0  0.0  \n",
       "2                -0.000000  1.0  0.0  0.0  0.0  1.0  0.0  0.0  0.0  0.0  \n",
       "3               229.676874  1.0  0.0  0.0  0.0  0.0  0.0  0.0  1.0  0.0  \n",
       "4               594.452970  1.0  0.0  0.0  0.0  0.0  0.0  0.0  1.0  0.0  \n",
       "\n",
       "[5 rows x 29 columns]"
      ]
     },
     "execution_count": 23,
     "metadata": {},
     "output_type": "execute_result"
    }
   ],
   "source": [
    "df.head()"
   ]
  },
  {
   "cell_type": "code",
   "execution_count": 24,
   "metadata": {},
   "outputs": [
    {
     "data": {
      "text/plain": [
       "None         550865\n",
       "instagram     32416\n",
       "Name: tag, dtype: int64"
      ]
     },
     "execution_count": 24,
     "metadata": {},
     "output_type": "execute_result"
    }
   ],
   "source": [
    "df['tag'].value_counts()"
   ]
  },
  {
   "cell_type": "code",
   "execution_count": 25,
   "metadata": {},
   "outputs": [],
   "source": [
    "array = df.values\n",
    "X = array[:,1:]\n",
    "Y = array[:,0]"
   ]
  },
  {
   "cell_type": "code",
   "execution_count": 26,
   "metadata": {},
   "outputs": [],
   "source": [
    "from sklearn.preprocessing import MinMaxScaler\n",
    "scaler = MinMaxScaler(feature_range=(0, 1))"
   ]
  },
  {
   "cell_type": "code",
   "execution_count": 27,
   "metadata": {},
   "outputs": [],
   "source": [
    "rescaledX = scaler.fit_transform(X)"
   ]
  },
  {
   "cell_type": "code",
   "execution_count": 28,
   "metadata": {},
   "outputs": [],
   "source": [
    "from sklearn.model_selection import train_test_split"
   ]
  },
  {
   "cell_type": "code",
   "execution_count": 29,
   "metadata": {},
   "outputs": [],
   "source": [
    "X_train, X_test, y_train, y_test = train_test_split( \n",
    "    rescaledX, Y, test_size = 0.3, random_state = 100)"
   ]
  },
  {
   "cell_type": "code",
   "execution_count": 30,
   "metadata": {},
   "outputs": [],
   "source": [
    "from sklearn.ensemble import RandomForestClassifier"
   ]
  },
  {
   "cell_type": "code",
   "execution_count": 65,
   "metadata": {},
   "outputs": [],
   "source": [
    "rf = RandomForestClassifier(n_estimators = 1000, random_state = 42,min_samples_leaf=4)"
   ]
  },
  {
   "cell_type": "code",
   "execution_count": null,
   "metadata": {},
   "outputs": [],
   "source": [
    "rf.fit(X_train, y_train);\n",
    "y_pred = rf.predict(X_test)"
   ]
  },
  {
   "cell_type": "code",
   "execution_count": 33,
   "metadata": {},
   "outputs": [
    {
     "data": {
      "text/plain": [
       "array([[165071,    366],\n",
       "       [  1444,   8104]])"
      ]
     },
     "execution_count": 33,
     "metadata": {},
     "output_type": "execute_result"
    }
   ],
   "source": [
    "from sklearn.metrics import confusion_matrix, accuracy_score, classification_report\n",
    "confusion_matrix(y_test, y_pred)"
   ]
  },
  {
   "cell_type": "code",
   "execution_count": 34,
   "metadata": {},
   "outputs": [
    {
     "data": {
      "text/plain": [
       "98.96562562505358"
      ]
     },
     "execution_count": 34,
     "metadata": {},
     "output_type": "execute_result"
    }
   ],
   "source": [
    " accuracy_score(y_test,y_pred)*100"
   ]
  },
  {
   "cell_type": "code",
   "execution_count": 35,
   "metadata": {},
   "outputs": [
    {
     "name": "stdout",
     "output_type": "stream",
     "text": [
      "              precision    recall  f1-score   support\n",
      "\n",
      "        None       0.99      1.00      0.99    165437\n",
      "   instagram       0.96      0.85      0.90      9548\n",
      "\n",
      "    accuracy                           0.99    174985\n",
      "   macro avg       0.97      0.92      0.95    174985\n",
      "weighted avg       0.99      0.99      0.99    174985\n",
      "\n"
     ]
    }
   ],
   "source": [
    "print(classification_report(y_test, y_pred))"
   ]
  },
  {
   "cell_type": "markdown",
   "metadata": {},
   "source": [
    "## resampling\n"
   ]
  },
  {
   "cell_type": "code",
   "execution_count": 36,
   "metadata": {},
   "outputs": [],
   "source": [
    "from sklearn.utils import resample"
   ]
  },
  {
   "cell_type": "code",
   "execution_count": 37,
   "metadata": {},
   "outputs": [],
   "source": [
    "df_majority = df[df['tag']=='None']\n",
    "df_minority_unsampled = df[df['tag']=='instagram']"
   ]
  },
  {
   "cell_type": "code",
   "execution_count": 38,
   "metadata": {},
   "outputs": [],
   "source": [
    "df_majority_downsample = resample(df_majority, \n",
    "                                 replace=True,     \n",
    "                                 n_samples=33000,    \n",
    "                                 random_state=123)"
   ]
  },
  {
   "cell_type": "code",
   "execution_count": 39,
   "metadata": {},
   "outputs": [],
   "source": [
    "df_resampled = pd.concat([df_majority_downsample, df_minority_unsampled])"
   ]
  },
  {
   "cell_type": "code",
   "execution_count": 40,
   "metadata": {},
   "outputs": [
    {
     "data": {
      "text/html": [
       "<div>\n",
       "<style scoped>\n",
       "    .dataframe tbody tr th:only-of-type {\n",
       "        vertical-align: middle;\n",
       "    }\n",
       "\n",
       "    .dataframe tbody tr th {\n",
       "        vertical-align: top;\n",
       "    }\n",
       "\n",
       "    .dataframe thead th {\n",
       "        text-align: right;\n",
       "    }\n",
       "</style>\n",
       "<table border=\"1\" class=\"dataframe\">\n",
       "  <thead>\n",
       "    <tr style=\"text-align: right;\">\n",
       "      <th></th>\n",
       "      <th>tag</th>\n",
       "      <th>port</th>\n",
       "      <th>avg_receive_packet_duration</th>\n",
       "      <th>avg_receive_packet_size</th>\n",
       "      <th>avg_send_packet_duration</th>\n",
       "      <th>avg_send_packet_size</th>\n",
       "      <th>max_receive_packet_duration</th>\n",
       "      <th>max_receive_packet_size</th>\n",
       "      <th>max_receive_sequence_packet_count</th>\n",
       "      <th>max_send_packet_duration</th>\n",
       "      <th>...</th>\n",
       "      <th>stddev_send_packet_size</th>\n",
       "      <th>0</th>\n",
       "      <th>1</th>\n",
       "      <th>2</th>\n",
       "      <th>3</th>\n",
       "      <th>4</th>\n",
       "      <th>5</th>\n",
       "      <th>6</th>\n",
       "      <th>7</th>\n",
       "      <th>8</th>\n",
       "    </tr>\n",
       "  </thead>\n",
       "  <tbody>\n",
       "    <tr>\n",
       "      <th>294227</th>\n",
       "      <td>None</td>\n",
       "      <td>443</td>\n",
       "      <td>2338.200000</td>\n",
       "      <td>880.100000</td>\n",
       "      <td>2389.600000</td>\n",
       "      <td>286.500000</td>\n",
       "      <td>29806</td>\n",
       "      <td>1388</td>\n",
       "      <td>4</td>\n",
       "      <td>29607</td>\n",
       "      <td>...</td>\n",
       "      <td>122.558441</td>\n",
       "      <td>1.0</td>\n",
       "      <td>0.0</td>\n",
       "      <td>0.0</td>\n",
       "      <td>0.0</td>\n",
       "      <td>0.0</td>\n",
       "      <td>0.0</td>\n",
       "      <td>0.0</td>\n",
       "      <td>1.0</td>\n",
       "      <td>0.0</td>\n",
       "    </tr>\n",
       "    <tr>\n",
       "      <th>29696</th>\n",
       "      <td>None</td>\n",
       "      <td>443</td>\n",
       "      <td>65.250000</td>\n",
       "      <td>1029.800000</td>\n",
       "      <td>75.900000</td>\n",
       "      <td>240.666667</td>\n",
       "      <td>271</td>\n",
       "      <td>1346</td>\n",
       "      <td>3</td>\n",
       "      <td>237</td>\n",
       "      <td>...</td>\n",
       "      <td>242.079188</td>\n",
       "      <td>1.0</td>\n",
       "      <td>0.0</td>\n",
       "      <td>0.0</td>\n",
       "      <td>0.0</td>\n",
       "      <td>0.0</td>\n",
       "      <td>0.0</td>\n",
       "      <td>0.0</td>\n",
       "      <td>1.0</td>\n",
       "      <td>0.0</td>\n",
       "    </tr>\n",
       "    <tr>\n",
       "      <th>18779</th>\n",
       "      <td>None</td>\n",
       "      <td>80</td>\n",
       "      <td>213.000000</td>\n",
       "      <td>7.000000</td>\n",
       "      <td>234.000000</td>\n",
       "      <td>524.000000</td>\n",
       "      <td>425</td>\n",
       "      <td>7</td>\n",
       "      <td>2</td>\n",
       "      <td>277</td>\n",
       "      <td>...</td>\n",
       "      <td>0.000000</td>\n",
       "      <td>1.0</td>\n",
       "      <td>0.0</td>\n",
       "      <td>0.0</td>\n",
       "      <td>0.0</td>\n",
       "      <td>1.0</td>\n",
       "      <td>0.0</td>\n",
       "      <td>0.0</td>\n",
       "      <td>0.0</td>\n",
       "      <td>0.0</td>\n",
       "    </tr>\n",
       "    <tr>\n",
       "      <th>203938</th>\n",
       "      <td>None</td>\n",
       "      <td>443</td>\n",
       "      <td>655.776119</td>\n",
       "      <td>132.000000</td>\n",
       "      <td>543.037037</td>\n",
       "      <td>1305.324324</td>\n",
       "      <td>26263</td>\n",
       "      <td>185</td>\n",
       "      <td>7</td>\n",
       "      <td>26125</td>\n",
       "      <td>...</td>\n",
       "      <td>289.876171</td>\n",
       "      <td>1.0</td>\n",
       "      <td>0.0</td>\n",
       "      <td>0.0</td>\n",
       "      <td>0.0</td>\n",
       "      <td>0.0</td>\n",
       "      <td>0.0</td>\n",
       "      <td>0.0</td>\n",
       "      <td>1.0</td>\n",
       "      <td>0.0</td>\n",
       "    </tr>\n",
       "    <tr>\n",
       "      <th>205839</th>\n",
       "      <td>None</td>\n",
       "      <td>53</td>\n",
       "      <td>-1.000000</td>\n",
       "      <td>-1.000000</td>\n",
       "      <td>-1.000000</td>\n",
       "      <td>-1.000000</td>\n",
       "      <td>-1</td>\n",
       "      <td>-1</td>\n",
       "      <td>1</td>\n",
       "      <td>-1</td>\n",
       "      <td>...</td>\n",
       "      <td>-0.000000</td>\n",
       "      <td>0.0</td>\n",
       "      <td>1.0</td>\n",
       "      <td>1.0</td>\n",
       "      <td>0.0</td>\n",
       "      <td>0.0</td>\n",
       "      <td>0.0</td>\n",
       "      <td>0.0</td>\n",
       "      <td>0.0</td>\n",
       "      <td>0.0</td>\n",
       "    </tr>\n",
       "    <tr>\n",
       "      <th>...</th>\n",
       "      <td>...</td>\n",
       "      <td>...</td>\n",
       "      <td>...</td>\n",
       "      <td>...</td>\n",
       "      <td>...</td>\n",
       "      <td>...</td>\n",
       "      <td>...</td>\n",
       "      <td>...</td>\n",
       "      <td>...</td>\n",
       "      <td>...</td>\n",
       "      <td>...</td>\n",
       "      <td>...</td>\n",
       "      <td>...</td>\n",
       "      <td>...</td>\n",
       "      <td>...</td>\n",
       "      <td>...</td>\n",
       "      <td>...</td>\n",
       "      <td>...</td>\n",
       "      <td>...</td>\n",
       "      <td>...</td>\n",
       "      <td>...</td>\n",
       "    </tr>\n",
       "    <tr>\n",
       "      <th>583236</th>\n",
       "      <td>instagram</td>\n",
       "      <td>443</td>\n",
       "      <td>23.942857</td>\n",
       "      <td>1186.562500</td>\n",
       "      <td>26.545455</td>\n",
       "      <td>264.333333</td>\n",
       "      <td>253</td>\n",
       "      <td>1380</td>\n",
       "      <td>14</td>\n",
       "      <td>518</td>\n",
       "      <td>...</td>\n",
       "      <td>314.948144</td>\n",
       "      <td>1.0</td>\n",
       "      <td>0.0</td>\n",
       "      <td>0.0</td>\n",
       "      <td>0.0</td>\n",
       "      <td>0.0</td>\n",
       "      <td>0.0</td>\n",
       "      <td>0.0</td>\n",
       "      <td>1.0</td>\n",
       "      <td>0.0</td>\n",
       "    </tr>\n",
       "    <tr>\n",
       "      <th>583246</th>\n",
       "      <td>instagram</td>\n",
       "      <td>443</td>\n",
       "      <td>532.375000</td>\n",
       "      <td>897.090909</td>\n",
       "      <td>570.400000</td>\n",
       "      <td>213.250000</td>\n",
       "      <td>8342</td>\n",
       "      <td>1380</td>\n",
       "      <td>9</td>\n",
       "      <td>8288</td>\n",
       "      <td>...</td>\n",
       "      <td>283.214142</td>\n",
       "      <td>1.0</td>\n",
       "      <td>0.0</td>\n",
       "      <td>0.0</td>\n",
       "      <td>0.0</td>\n",
       "      <td>0.0</td>\n",
       "      <td>0.0</td>\n",
       "      <td>0.0</td>\n",
       "      <td>1.0</td>\n",
       "      <td>0.0</td>\n",
       "    </tr>\n",
       "    <tr>\n",
       "      <th>583262</th>\n",
       "      <td>instagram</td>\n",
       "      <td>443</td>\n",
       "      <td>9.235294</td>\n",
       "      <td>801.166667</td>\n",
       "      <td>38.666667</td>\n",
       "      <td>272.857143</td>\n",
       "      <td>65</td>\n",
       "      <td>1232</td>\n",
       "      <td>12</td>\n",
       "      <td>72</td>\n",
       "      <td>...</td>\n",
       "      <td>448.725762</td>\n",
       "      <td>0.0</td>\n",
       "      <td>1.0</td>\n",
       "      <td>0.0</td>\n",
       "      <td>0.0</td>\n",
       "      <td>0.0</td>\n",
       "      <td>0.0</td>\n",
       "      <td>0.0</td>\n",
       "      <td>0.0</td>\n",
       "      <td>1.0</td>\n",
       "    </tr>\n",
       "    <tr>\n",
       "      <th>583263</th>\n",
       "      <td>instagram</td>\n",
       "      <td>443</td>\n",
       "      <td>411.250000</td>\n",
       "      <td>1091.062016</td>\n",
       "      <td>2632.200000</td>\n",
       "      <td>290.047619</td>\n",
       "      <td>51507</td>\n",
       "      <td>1232</td>\n",
       "      <td>34</td>\n",
       "      <td>51496</td>\n",
       "      <td>...</td>\n",
       "      <td>418.794637</td>\n",
       "      <td>0.0</td>\n",
       "      <td>1.0</td>\n",
       "      <td>0.0</td>\n",
       "      <td>0.0</td>\n",
       "      <td>0.0</td>\n",
       "      <td>0.0</td>\n",
       "      <td>0.0</td>\n",
       "      <td>0.0</td>\n",
       "      <td>1.0</td>\n",
       "    </tr>\n",
       "    <tr>\n",
       "      <th>583272</th>\n",
       "      <td>instagram</td>\n",
       "      <td>443</td>\n",
       "      <td>270.166667</td>\n",
       "      <td>874.500000</td>\n",
       "      <td>198.333333</td>\n",
       "      <td>52.333333</td>\n",
       "      <td>1141</td>\n",
       "      <td>1288</td>\n",
       "      <td>4</td>\n",
       "      <td>1078</td>\n",
       "      <td>...</td>\n",
       "      <td>24.664414</td>\n",
       "      <td>1.0</td>\n",
       "      <td>0.0</td>\n",
       "      <td>0.0</td>\n",
       "      <td>0.0</td>\n",
       "      <td>0.0</td>\n",
       "      <td>0.0</td>\n",
       "      <td>0.0</td>\n",
       "      <td>1.0</td>\n",
       "      <td>0.0</td>\n",
       "    </tr>\n",
       "  </tbody>\n",
       "</table>\n",
       "<p>65416 rows × 29 columns</p>\n",
       "</div>"
      ],
      "text/plain": [
       "              tag port  avg_receive_packet_duration  avg_receive_packet_size  \\\n",
       "294227       None  443                  2338.200000               880.100000   \n",
       "29696        None  443                    65.250000              1029.800000   \n",
       "18779        None   80                   213.000000                 7.000000   \n",
       "203938       None  443                   655.776119               132.000000   \n",
       "205839       None   53                    -1.000000                -1.000000   \n",
       "...           ...  ...                          ...                      ...   \n",
       "583236  instagram  443                    23.942857              1186.562500   \n",
       "583246  instagram  443                   532.375000               897.090909   \n",
       "583262  instagram  443                     9.235294               801.166667   \n",
       "583263  instagram  443                   411.250000              1091.062016   \n",
       "583272  instagram  443                   270.166667               874.500000   \n",
       "\n",
       "        avg_send_packet_duration  avg_send_packet_size  \\\n",
       "294227               2389.600000            286.500000   \n",
       "29696                  75.900000            240.666667   \n",
       "18779                 234.000000            524.000000   \n",
       "203938                543.037037           1305.324324   \n",
       "205839                 -1.000000             -1.000000   \n",
       "...                          ...                   ...   \n",
       "583236                 26.545455            264.333333   \n",
       "583246                570.400000            213.250000   \n",
       "583262                 38.666667            272.857143   \n",
       "583263               2632.200000            290.047619   \n",
       "583272                198.333333             52.333333   \n",
       "\n",
       "        max_receive_packet_duration  max_receive_packet_size  \\\n",
       "294227                        29806                     1388   \n",
       "29696                           271                     1346   \n",
       "18779                           425                        7   \n",
       "203938                        26263                      185   \n",
       "205839                           -1                       -1   \n",
       "...                             ...                      ...   \n",
       "583236                          253                     1380   \n",
       "583246                         8342                     1380   \n",
       "583262                           65                     1232   \n",
       "583263                        51507                     1232   \n",
       "583272                         1141                     1288   \n",
       "\n",
       "        max_receive_sequence_packet_count  max_send_packet_duration  ...  \\\n",
       "294227                                  4                     29607  ...   \n",
       "29696                                   3                       237  ...   \n",
       "18779                                   2                       277  ...   \n",
       "203938                                  7                     26125  ...   \n",
       "205839                                  1                        -1  ...   \n",
       "...                                   ...                       ...  ...   \n",
       "583236                                 14                       518  ...   \n",
       "583246                                  9                      8288  ...   \n",
       "583262                                 12                        72  ...   \n",
       "583263                                 34                     51496  ...   \n",
       "583272                                  4                      1078  ...   \n",
       "\n",
       "        stddev_send_packet_size    0    1    2    3    4    5    6    7    8  \n",
       "294227               122.558441  1.0  0.0  0.0  0.0  0.0  0.0  0.0  1.0  0.0  \n",
       "29696                242.079188  1.0  0.0  0.0  0.0  0.0  0.0  0.0  1.0  0.0  \n",
       "18779                  0.000000  1.0  0.0  0.0  0.0  1.0  0.0  0.0  0.0  0.0  \n",
       "203938               289.876171  1.0  0.0  0.0  0.0  0.0  0.0  0.0  1.0  0.0  \n",
       "205839                -0.000000  0.0  1.0  1.0  0.0  0.0  0.0  0.0  0.0  0.0  \n",
       "...                         ...  ...  ...  ...  ...  ...  ...  ...  ...  ...  \n",
       "583236               314.948144  1.0  0.0  0.0  0.0  0.0  0.0  0.0  1.0  0.0  \n",
       "583246               283.214142  1.0  0.0  0.0  0.0  0.0  0.0  0.0  1.0  0.0  \n",
       "583262               448.725762  0.0  1.0  0.0  0.0  0.0  0.0  0.0  0.0  1.0  \n",
       "583263               418.794637  0.0  1.0  0.0  0.0  0.0  0.0  0.0  0.0  1.0  \n",
       "583272                24.664414  1.0  0.0  0.0  0.0  0.0  0.0  0.0  1.0  0.0  \n",
       "\n",
       "[65416 rows x 29 columns]"
      ]
     },
     "execution_count": 40,
     "metadata": {},
     "output_type": "execute_result"
    }
   ],
   "source": [
    "df_resampled"
   ]
  },
  {
   "cell_type": "code",
   "execution_count": 41,
   "metadata": {},
   "outputs": [],
   "source": [
    "resampled_array = df_resampled.values\n",
    "resampled_X = resampled_array[:,4:]\n",
    "resampled_Y = resampled_array[:,0]"
   ]
  },
  {
   "cell_type": "code",
   "execution_count": 42,
   "metadata": {},
   "outputs": [],
   "source": [
    "rescaled_resampled_X = scaler.fit_transform(resampled_X)"
   ]
  },
  {
   "cell_type": "code",
   "execution_count": 43,
   "metadata": {},
   "outputs": [],
   "source": [
    "X_train, X_test, y_train, y_test = train_test_split( \n",
    "    rescaled_resampled_X, resampled_Y, test_size = 0.3, random_state = 100)"
   ]
  },
  {
   "cell_type": "code",
   "execution_count": 44,
   "metadata": {},
   "outputs": [],
   "source": [
    "rf_resample = RandomForestClassifier(n_estimators = 1000, random_state = 42,min_samples_leaf=4)"
   ]
  },
  {
   "cell_type": "code",
   "execution_count": 45,
   "metadata": {},
   "outputs": [],
   "source": [
    "rf_resample.fit(X_train, y_train);\n",
    "y_pred = rf_resample.predict(X_test)"
   ]
  },
  {
   "cell_type": "code",
   "execution_count": 46,
   "metadata": {},
   "outputs": [
    {
     "data": {
      "text/plain": [
       "array([[9504,  348],\n",
       "       [ 310, 9463]])"
      ]
     },
     "execution_count": 46,
     "metadata": {},
     "output_type": "execute_result"
    }
   ],
   "source": [
    "confusion_matrix(y_test, y_pred)"
   ]
  },
  {
   "cell_type": "code",
   "execution_count": 47,
   "metadata": {},
   "outputs": [
    {
     "data": {
      "text/plain": [
       "96.64713375796178"
      ]
     },
     "execution_count": 47,
     "metadata": {},
     "output_type": "execute_result"
    }
   ],
   "source": [
    " accuracy_score(y_test,y_pred)*100"
   ]
  },
  {
   "cell_type": "code",
   "execution_count": 48,
   "metadata": {},
   "outputs": [
    {
     "name": "stdout",
     "output_type": "stream",
     "text": [
      "              precision    recall  f1-score   support\n",
      "\n",
      "        None       0.97      0.96      0.97      9852\n",
      "   instagram       0.96      0.97      0.97      9773\n",
      "\n",
      "    accuracy                           0.97     19625\n",
      "   macro avg       0.97      0.97      0.97     19625\n",
      "weighted avg       0.97      0.97      0.97     19625\n",
      "\n"
     ]
    }
   ],
   "source": [
    "print(classification_report(y_test, y_pred))"
   ]
  },
  {
   "cell_type": "code",
   "execution_count": 53,
   "metadata": {},
   "outputs": [],
   "source": [
    "estimator = rf.estimators_[500]\n",
    "from sklearn.tree import export_graphviz\n",
    "\n",
    "export_graphviz(\n",
    "estimator,\n",
    "out_file='tree.dot',\n",
    "feature_names=['port','avg_receive_packet_duration', 'avg_receive_packet_size',\n",
    "       'avg_send_packet_duration', 'avg_send_packet_size',\n",
    "       'max_receive_packet_duration', 'max_receive_packet_size',\n",
    "       'max_receive_sequence_packet_count', 'max_send_packet_duration',\n",
    "       'max_send_packet_size', 'max_send_sequence_packet_count',\n",
    "       'min_receive_packet_duration', 'min_receive_packet_size',\n",
    "       'min_send_packet_duration', 'min_send_packet_size',\n",
    "       'stddev_receive_packet_duration', 'stddev_receive_packet_size',\n",
    "       'stddev_send_packet_duration', 'stddev_send_packet_size','0','1','2','3','4','5','6','7','8'],\n",
    "class_names=['ins','null'],\n",
    "rounded=True,\n",
    "filled=True\n",
    ")"
   ]
  },
  {
   "cell_type": "markdown",
   "metadata": {},
   "source": [
    "### KNN algo"
   ]
  },
  {
   "cell_type": "code",
   "execution_count": 54,
   "metadata": {},
   "outputs": [],
   "source": [
    "df = pd.DataFrame(data)"
   ]
  },
  {
   "cell_type": "code",
   "execution_count": 55,
   "metadata": {},
   "outputs": [],
   "source": [
    "df['l4proto'] = df['l4proto'].astype('category')\n",
    "df['l7proto'] = df['l7proto'].astype('category')"
   ]
  },
  {
   "cell_type": "code",
   "execution_count": 56,
   "metadata": {},
   "outputs": [],
   "source": [
    "df['l7proto'] = df['l7proto'].replace([''], ['null'])\n",
    "df['tag'] = df['tag'].replace([None], ['None'])"
   ]
  },
  {
   "cell_type": "code",
   "execution_count": 57,
   "metadata": {},
   "outputs": [],
   "source": [
    "df['l4proto_cat'] = labelencoder.fit_transform(df['l4proto'])\n",
    "df['l7proto_cat'] = labelencoder.fit_transform(df['l7proto'])"
   ]
  },
  {
   "cell_type": "code",
   "execution_count": 58,
   "metadata": {},
   "outputs": [],
   "source": [
    "from sklearn.preprocessing import OneHotEncoder \n",
    "enc = OneHotEncoder(handle_unknown='ignore')\n",
    "enc_port = pd.DataFrame(enc.fit_transform(df[['l4proto_cat','l7proto_cat']]).toarray())\n",
    "df = df.join(enc_port)"
   ]
  },
  {
   "cell_type": "code",
   "execution_count": 59,
   "metadata": {},
   "outputs": [],
   "source": [
    "df.drop('l4proto_cat',inplace=True,axis=1)\n",
    "df.drop('l7proto_cat',inplace=True,axis=1)\n",
    "df.drop('l4proto',inplace=True,axis=1)\n",
    "df.drop('l7proto',inplace=True,axis=1)"
   ]
  },
  {
   "cell_type": "code",
   "execution_count": 60,
   "metadata": {},
   "outputs": [],
   "source": [
    "array = df.values\n",
    "X = array[:,1:]\n",
    "Y = array[:,0]"
   ]
  },
  {
   "cell_type": "code",
   "execution_count": 61,
   "metadata": {},
   "outputs": [],
   "source": [
    "from sklearn.preprocessing import MinMaxScaler\n",
    "scaler = MinMaxScaler(feature_range=(0, 1))\n",
    "rescaledX = scaler.fit_transform(X)"
   ]
  },
  {
   "cell_type": "code",
   "execution_count": 62,
   "metadata": {},
   "outputs": [],
   "source": [
    "X_train, X_test, y_train, y_test = train_test_split( \n",
    "    rescaledX, Y, test_size = 0.3, random_state = 100)"
   ]
  },
  {
   "cell_type": "code",
   "execution_count": 63,
   "metadata": {},
   "outputs": [],
   "source": [
    "from sklearn.neighbors import KNeighborsClassifier\n",
    "k = 5\n",
    "knn = KNeighborsClassifier(n_neighbors=k)\n",
    "knn.fit(X_train, y_train)\n",
    "y_pred = knn.predict(X_test)"
   ]
  },
  {
   "cell_type": "code",
   "execution_count": 64,
   "metadata": {},
   "outputs": [
    {
     "name": "stdout",
     "output_type": "stream",
     "text": [
      "              precision    recall  f1-score   support\n",
      "\n",
      "        None       0.99      0.99      0.99    165437\n",
      "   instagram       0.89      0.79      0.84      9548\n",
      "\n",
      "    accuracy                           0.98    174985\n",
      "   macro avg       0.94      0.89      0.91    174985\n",
      "weighted avg       0.98      0.98      0.98    174985\n",
      "\n"
     ]
    }
   ],
   "source": [
    "print(classification_report(y_test, y_pred))"
   ]
  },
  {
   "cell_type": "code",
   "execution_count": null,
   "metadata": {},
   "outputs": [],
   "source": []
  }
 ],
 "metadata": {
  "kernelspec": {
   "display_name": "Python 3",
   "language": "python",
   "name": "python3"
  },
  "language_info": {
   "codemirror_mode": {
    "name": "ipython",
    "version": 3
   },
   "file_extension": ".py",
   "mimetype": "text/x-python",
   "name": "python",
   "nbconvert_exporter": "python",
   "pygments_lexer": "ipython3",
   "version": "3.8.5"
  }
 },
 "nbformat": 4,
 "nbformat_minor": 4
}
