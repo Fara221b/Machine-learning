{
 "cells": [
  {
   "cell_type": "code",
   "execution_count": 27,
   "metadata": {},
   "outputs": [
    {
     "data": {
      "text/html": [
       "<div>\n",
       "<style scoped>\n",
       "    .dataframe tbody tr th:only-of-type {\n",
       "        vertical-align: middle;\n",
       "    }\n",
       "\n",
       "    .dataframe tbody tr th {\n",
       "        vertical-align: top;\n",
       "    }\n",
       "\n",
       "    .dataframe thead th {\n",
       "        text-align: right;\n",
       "    }\n",
       "</style>\n",
       "<table border=\"1\" class=\"dataframe\">\n",
       "  <thead>\n",
       "    <tr style=\"text-align: right;\">\n",
       "      <th></th>\n",
       "      <th>tag</th>\n",
       "      <th>port</th>\n",
       "      <th>avg_receive_packet_duration</th>\n",
       "      <th>avg_receive_packet_size</th>\n",
       "      <th>avg_send_packet_duration</th>\n",
       "      <th>avg_send_packet_size</th>\n",
       "      <th>max_receive_packet_duration</th>\n",
       "      <th>max_receive_packet_size</th>\n",
       "      <th>max_receive_sequence_packet_count</th>\n",
       "      <th>max_send_packet_duration</th>\n",
       "      <th>...</th>\n",
       "      <th>stddev_receive_packet_size</th>\n",
       "      <th>stddev_send_packet_duration</th>\n",
       "      <th>stddev_send_packet_size</th>\n",
       "      <th>0</th>\n",
       "      <th>1</th>\n",
       "      <th>2</th>\n",
       "      <th>3</th>\n",
       "      <th>4</th>\n",
       "      <th>5</th>\n",
       "      <th>6</th>\n",
       "    </tr>\n",
       "  </thead>\n",
       "  <tbody>\n",
       "    <tr>\n",
       "      <th>0</th>\n",
       "      <td>None</td>\n",
       "      <td>443</td>\n",
       "      <td>708.166667</td>\n",
       "      <td>874.500000</td>\n",
       "      <td>1343.750000</td>\n",
       "      <td>91.500000</td>\n",
       "      <td>2540</td>\n",
       "      <td>1288</td>\n",
       "      <td>4</td>\n",
       "      <td>6500</td>\n",
       "      <td>...</td>\n",
       "      <td>458.788622</td>\n",
       "      <td>2143.566704</td>\n",
       "      <td>83.815273</td>\n",
       "      <td>1.0</td>\n",
       "      <td>0.0</td>\n",
       "      <td>0.0</td>\n",
       "      <td>0.0</td>\n",
       "      <td>0.0</td>\n",
       "      <td>1.0</td>\n",
       "      <td>0.0</td>\n",
       "    </tr>\n",
       "    <tr>\n",
       "      <th>1</th>\n",
       "      <td>None</td>\n",
       "      <td>443</td>\n",
       "      <td>101.250000</td>\n",
       "      <td>400.200000</td>\n",
       "      <td>148.714286</td>\n",
       "      <td>592.000000</td>\n",
       "      <td>276</td>\n",
       "      <td>1133</td>\n",
       "      <td>5</td>\n",
       "      <td>263</td>\n",
       "      <td>...</td>\n",
       "      <td>496.192201</td>\n",
       "      <td>127.963164</td>\n",
       "      <td>421.009501</td>\n",
       "      <td>1.0</td>\n",
       "      <td>0.0</td>\n",
       "      <td>0.0</td>\n",
       "      <td>0.0</td>\n",
       "      <td>0.0</td>\n",
       "      <td>1.0</td>\n",
       "      <td>0.0</td>\n",
       "    </tr>\n",
       "    <tr>\n",
       "      <th>2</th>\n",
       "      <td>None</td>\n",
       "      <td>443</td>\n",
       "      <td>64.166667</td>\n",
       "      <td>704.333333</td>\n",
       "      <td>2068.000000</td>\n",
       "      <td>273.666667</td>\n",
       "      <td>120</td>\n",
       "      <td>1381</td>\n",
       "      <td>3</td>\n",
       "      <td>13996</td>\n",
       "      <td>...</td>\n",
       "      <td>624.206163</td>\n",
       "      <td>5260.053073</td>\n",
       "      <td>210.238753</td>\n",
       "      <td>1.0</td>\n",
       "      <td>0.0</td>\n",
       "      <td>0.0</td>\n",
       "      <td>0.0</td>\n",
       "      <td>0.0</td>\n",
       "      <td>1.0</td>\n",
       "      <td>0.0</td>\n",
       "    </tr>\n",
       "    <tr>\n",
       "      <th>3</th>\n",
       "      <td>None</td>\n",
       "      <td>443</td>\n",
       "      <td>62.000000</td>\n",
       "      <td>94.500000</td>\n",
       "      <td>93.166667</td>\n",
       "      <td>205.000000</td>\n",
       "      <td>173</td>\n",
       "      <td>144</td>\n",
       "      <td>4</td>\n",
       "      <td>216</td>\n",
       "      <td>...</td>\n",
       "      <td>70.003571</td>\n",
       "      <td>100.232563</td>\n",
       "      <td>175.034282</td>\n",
       "      <td>1.0</td>\n",
       "      <td>0.0</td>\n",
       "      <td>0.0</td>\n",
       "      <td>0.0</td>\n",
       "      <td>0.0</td>\n",
       "      <td>1.0</td>\n",
       "      <td>0.0</td>\n",
       "    </tr>\n",
       "    <tr>\n",
       "      <th>4</th>\n",
       "      <td>None</td>\n",
       "      <td>53</td>\n",
       "      <td>103.000000</td>\n",
       "      <td>-1.000000</td>\n",
       "      <td>5.000000</td>\n",
       "      <td>-1.000000</td>\n",
       "      <td>103</td>\n",
       "      <td>-1</td>\n",
       "      <td>2</td>\n",
       "      <td>5</td>\n",
       "      <td>...</td>\n",
       "      <td>-0.000000</td>\n",
       "      <td>0.000000</td>\n",
       "      <td>-0.000000</td>\n",
       "      <td>0.0</td>\n",
       "      <td>1.0</td>\n",
       "      <td>1.0</td>\n",
       "      <td>0.0</td>\n",
       "      <td>0.0</td>\n",
       "      <td>0.0</td>\n",
       "      <td>0.0</td>\n",
       "    </tr>\n",
       "    <tr>\n",
       "      <th>...</th>\n",
       "      <td>...</td>\n",
       "      <td>...</td>\n",
       "      <td>...</td>\n",
       "      <td>...</td>\n",
       "      <td>...</td>\n",
       "      <td>...</td>\n",
       "      <td>...</td>\n",
       "      <td>...</td>\n",
       "      <td>...</td>\n",
       "      <td>...</td>\n",
       "      <td>...</td>\n",
       "      <td>...</td>\n",
       "      <td>...</td>\n",
       "      <td>...</td>\n",
       "      <td>...</td>\n",
       "      <td>...</td>\n",
       "      <td>...</td>\n",
       "      <td>...</td>\n",
       "      <td>...</td>\n",
       "      <td>...</td>\n",
       "      <td>...</td>\n",
       "    </tr>\n",
       "    <tr>\n",
       "      <th>6544</th>\n",
       "      <td>None</td>\n",
       "      <td>443</td>\n",
       "      <td>47.292308</td>\n",
       "      <td>459.222222</td>\n",
       "      <td>39.987952</td>\n",
       "      <td>1283.473684</td>\n",
       "      <td>586</td>\n",
       "      <td>1388</td>\n",
       "      <td>9</td>\n",
       "      <td>579</td>\n",
       "      <td>...</td>\n",
       "      <td>534.130082</td>\n",
       "      <td>89.829445</td>\n",
       "      <td>340.375223</td>\n",
       "      <td>1.0</td>\n",
       "      <td>0.0</td>\n",
       "      <td>0.0</td>\n",
       "      <td>0.0</td>\n",
       "      <td>0.0</td>\n",
       "      <td>1.0</td>\n",
       "      <td>0.0</td>\n",
       "    </tr>\n",
       "    <tr>\n",
       "      <th>6545</th>\n",
       "      <td>None</td>\n",
       "      <td>443</td>\n",
       "      <td>79.125000</td>\n",
       "      <td>287.000000</td>\n",
       "      <td>63.300000</td>\n",
       "      <td>156.750000</td>\n",
       "      <td>214</td>\n",
       "      <td>782</td>\n",
       "      <td>4</td>\n",
       "      <td>161</td>\n",
       "      <td>...</td>\n",
       "      <td>428.717856</td>\n",
       "      <td>56.619686</td>\n",
       "      <td>252.258300</td>\n",
       "      <td>1.0</td>\n",
       "      <td>0.0</td>\n",
       "      <td>0.0</td>\n",
       "      <td>0.0</td>\n",
       "      <td>0.0</td>\n",
       "      <td>1.0</td>\n",
       "      <td>0.0</td>\n",
       "    </tr>\n",
       "    <tr>\n",
       "      <th>6546</th>\n",
       "      <td>None</td>\n",
       "      <td>1194</td>\n",
       "      <td>70.168831</td>\n",
       "      <td>1071.794872</td>\n",
       "      <td>84.338028</td>\n",
       "      <td>184.388889</td>\n",
       "      <td>1597</td>\n",
       "      <td>1301</td>\n",
       "      <td>16</td>\n",
       "      <td>1641</td>\n",
       "      <td>...</td>\n",
       "      <td>460.306627</td>\n",
       "      <td>242.350098</td>\n",
       "      <td>285.983874</td>\n",
       "      <td>0.0</td>\n",
       "      <td>1.0</td>\n",
       "      <td>0.0</td>\n",
       "      <td>0.0</td>\n",
       "      <td>0.0</td>\n",
       "      <td>0.0</td>\n",
       "      <td>1.0</td>\n",
       "    </tr>\n",
       "    <tr>\n",
       "      <th>6547</th>\n",
       "      <td>None</td>\n",
       "      <td>443</td>\n",
       "      <td>65.142857</td>\n",
       "      <td>680.333333</td>\n",
       "      <td>9080.500000</td>\n",
       "      <td>591.250000</td>\n",
       "      <td>110</td>\n",
       "      <td>1388</td>\n",
       "      <td>3</td>\n",
       "      <td>72109</td>\n",
       "      <td>...</td>\n",
       "      <td>674.415549</td>\n",
       "      <td>25467.460819</td>\n",
       "      <td>571.470253</td>\n",
       "      <td>1.0</td>\n",
       "      <td>0.0</td>\n",
       "      <td>0.0</td>\n",
       "      <td>0.0</td>\n",
       "      <td>0.0</td>\n",
       "      <td>1.0</td>\n",
       "      <td>0.0</td>\n",
       "    </tr>\n",
       "    <tr>\n",
       "      <th>6548</th>\n",
       "      <td>None</td>\n",
       "      <td>443</td>\n",
       "      <td>103.400000</td>\n",
       "      <td>527.700000</td>\n",
       "      <td>103.941176</td>\n",
       "      <td>465.250000</td>\n",
       "      <td>678</td>\n",
       "      <td>1388</td>\n",
       "      <td>5</td>\n",
       "      <td>480</td>\n",
       "      <td>...</td>\n",
       "      <td>577.708510</td>\n",
       "      <td>139.758037</td>\n",
       "      <td>618.821124</td>\n",
       "      <td>1.0</td>\n",
       "      <td>0.0</td>\n",
       "      <td>0.0</td>\n",
       "      <td>0.0</td>\n",
       "      <td>0.0</td>\n",
       "      <td>1.0</td>\n",
       "      <td>0.0</td>\n",
       "    </tr>\n",
       "  </tbody>\n",
       "</table>\n",
       "<p>6549 rows × 27 columns</p>\n",
       "</div>"
      ],
      "text/plain": [
       "       tag  port  avg_receive_packet_duration  avg_receive_packet_size  \\\n",
       "0     None   443                   708.166667               874.500000   \n",
       "1     None   443                   101.250000               400.200000   \n",
       "2     None   443                    64.166667               704.333333   \n",
       "3     None   443                    62.000000                94.500000   \n",
       "4     None    53                   103.000000                -1.000000   \n",
       "...    ...   ...                          ...                      ...   \n",
       "6544  None   443                    47.292308               459.222222   \n",
       "6545  None   443                    79.125000               287.000000   \n",
       "6546  None  1194                    70.168831              1071.794872   \n",
       "6547  None   443                    65.142857               680.333333   \n",
       "6548  None   443                   103.400000               527.700000   \n",
       "\n",
       "      avg_send_packet_duration  avg_send_packet_size  \\\n",
       "0                  1343.750000             91.500000   \n",
       "1                   148.714286            592.000000   \n",
       "2                  2068.000000            273.666667   \n",
       "3                    93.166667            205.000000   \n",
       "4                     5.000000             -1.000000   \n",
       "...                        ...                   ...   \n",
       "6544                 39.987952           1283.473684   \n",
       "6545                 63.300000            156.750000   \n",
       "6546                 84.338028            184.388889   \n",
       "6547               9080.500000            591.250000   \n",
       "6548                103.941176            465.250000   \n",
       "\n",
       "      max_receive_packet_duration  max_receive_packet_size  \\\n",
       "0                            2540                     1288   \n",
       "1                             276                     1133   \n",
       "2                             120                     1381   \n",
       "3                             173                      144   \n",
       "4                             103                       -1   \n",
       "...                           ...                      ...   \n",
       "6544                          586                     1388   \n",
       "6545                          214                      782   \n",
       "6546                         1597                     1301   \n",
       "6547                          110                     1388   \n",
       "6548                          678                     1388   \n",
       "\n",
       "      max_receive_sequence_packet_count  max_send_packet_duration  ...  \\\n",
       "0                                     4                      6500  ...   \n",
       "1                                     5                       263  ...   \n",
       "2                                     3                     13996  ...   \n",
       "3                                     4                       216  ...   \n",
       "4                                     2                         5  ...   \n",
       "...                                 ...                       ...  ...   \n",
       "6544                                  9                       579  ...   \n",
       "6545                                  4                       161  ...   \n",
       "6546                                 16                      1641  ...   \n",
       "6547                                  3                     72109  ...   \n",
       "6548                                  5                       480  ...   \n",
       "\n",
       "      stddev_receive_packet_size  stddev_send_packet_duration  \\\n",
       "0                     458.788622                  2143.566704   \n",
       "1                     496.192201                   127.963164   \n",
       "2                     624.206163                  5260.053073   \n",
       "3                      70.003571                   100.232563   \n",
       "4                      -0.000000                     0.000000   \n",
       "...                          ...                          ...   \n",
       "6544                  534.130082                    89.829445   \n",
       "6545                  428.717856                    56.619686   \n",
       "6546                  460.306627                   242.350098   \n",
       "6547                  674.415549                 25467.460819   \n",
       "6548                  577.708510                   139.758037   \n",
       "\n",
       "      stddev_send_packet_size    0    1    2    3    4    5    6  \n",
       "0                   83.815273  1.0  0.0  0.0  0.0  0.0  1.0  0.0  \n",
       "1                  421.009501  1.0  0.0  0.0  0.0  0.0  1.0  0.0  \n",
       "2                  210.238753  1.0  0.0  0.0  0.0  0.0  1.0  0.0  \n",
       "3                  175.034282  1.0  0.0  0.0  0.0  0.0  1.0  0.0  \n",
       "4                   -0.000000  0.0  1.0  1.0  0.0  0.0  0.0  0.0  \n",
       "...                       ...  ...  ...  ...  ...  ...  ...  ...  \n",
       "6544               340.375223  1.0  0.0  0.0  0.0  0.0  1.0  0.0  \n",
       "6545               252.258300  1.0  0.0  0.0  0.0  0.0  1.0  0.0  \n",
       "6546               285.983874  0.0  1.0  0.0  0.0  0.0  0.0  1.0  \n",
       "6547               571.470253  1.0  0.0  0.0  0.0  0.0  1.0  0.0  \n",
       "6548               618.821124  1.0  0.0  0.0  0.0  0.0  1.0  0.0  \n",
       "\n",
       "[6549 rows x 27 columns]"
      ]
     },
     "execution_count": 27,
     "metadata": {},
     "output_type": "execute_result"
    }
   ],
   "source": [
    "df"
   ]
  },
  {
   "cell_type": "code",
   "execution_count": 46,
   "metadata": {},
   "outputs": [],
   "source": [
    "array = df.values\n",
    "X = array[:,1:]\n",
    "Y = array[:,0]"
   ]
  },
  {
   "cell_type": "code",
   "execution_count": 47,
   "metadata": {},
   "outputs": [],
   "source": [
    "from sklearn.preprocessing import MinMaxScaler\n",
    "scaler = MinMaxScaler(feature_range=(0, 1))"
   ]
  },
  {
   "cell_type": "code",
   "execution_count": 48,
   "metadata": {},
   "outputs": [],
   "source": [
    "rescaledX = scaler.fit_transform(X)"
   ]
  },
  {
   "cell_type": "code",
   "execution_count": 49,
   "metadata": {},
   "outputs": [],
   "source": [
    "from sklearn.model_selection import train_test_split"
   ]
  },
  {
   "cell_type": "code",
   "execution_count": 50,
   "metadata": {},
   "outputs": [],
   "source": [
    "X_train, X_test, y_train, y_test = train_test_split( \n",
    "    rescaledX, Y, test_size = 0.3, random_state = 100)"
   ]
  },
  {
   "cell_type": "code",
   "execution_count": 51,
   "metadata": {},
   "outputs": [],
   "source": [
    "from sklearn.tree import DecisionTreeClassifier"
   ]
  },
  {
   "cell_type": "code",
   "execution_count": 52,
   "metadata": {},
   "outputs": [],
   "source": [
    "clf_gini = DecisionTreeClassifier(criterion = \"gini\",\n",
    "            random_state = 100,max_depth=2, min_samples_leaf=4)"
   ]
  },
  {
   "cell_type": "code",
   "execution_count": 53,
   "metadata": {},
   "outputs": [
    {
     "data": {
      "text/plain": [
       "DecisionTreeClassifier(max_depth=2, min_samples_leaf=4, random_state=100)"
      ]
     },
     "execution_count": 53,
     "metadata": {},
     "output_type": "execute_result"
    }
   ],
   "source": [
    "clf_gini.fit(X_train, y_train)"
   ]
  },
  {
   "cell_type": "code",
   "execution_count": 54,
   "metadata": {},
   "outputs": [],
   "source": [
    "y_pred = clf_gini.predict(X_test)"
   ]
  },
  {
   "cell_type": "code",
   "execution_count": 55,
   "metadata": {},
   "outputs": [],
   "source": [
    "from sklearn.metrics import confusion_matrix, accuracy_score, classification_report\n"
   ]
  },
  {
   "cell_type": "code",
   "execution_count": 56,
   "metadata": {},
   "outputs": [
    {
     "data": {
      "text/plain": [
       "array([[1864,    2],\n",
       "       [  77,   22]])"
      ]
     },
     "execution_count": 56,
     "metadata": {},
     "output_type": "execute_result"
    }
   ],
   "source": [
    "confusion_matrix(y_test, y_pred)"
   ]
  },
  {
   "cell_type": "code",
   "execution_count": 57,
   "metadata": {},
   "outputs": [
    {
     "data": {
      "text/plain": [
       "95.9796437659033"
      ]
     },
     "execution_count": 57,
     "metadata": {},
     "output_type": "execute_result"
    }
   ],
   "source": [
    " accuracy_score(y_test,y_pred)*100"
   ]
  },
  {
   "cell_type": "code",
   "execution_count": 58,
   "metadata": {},
   "outputs": [
    {
     "name": "stdout",
     "output_type": "stream",
     "text": [
      "              precision    recall  f1-score   support\n",
      "\n",
      "        None       0.96      1.00      0.98      1866\n",
      "   instagram       0.92      0.22      0.36        99\n",
      "\n",
      "    accuracy                           0.96      1965\n",
      "   macro avg       0.94      0.61      0.67      1965\n",
      "weighted avg       0.96      0.96      0.95      1965\n",
      "\n"
     ]
    }
   ],
   "source": [
    "print(classification_report(y_test, y_pred))"
   ]
  },
  {
   "cell_type": "code",
   "execution_count": 41,
   "metadata": {},
   "outputs": [],
   "source": [
    " y_prob=clf_gini.predict_proba(X_test)"
   ]
  },
  {
   "cell_type": "code",
   "execution_count": 42,
   "metadata": {},
   "outputs": [],
   "source": [
    "from sklearn.metrics import plot_precision_recall_curve"
   ]
  },
  {
   "cell_type": "code",
   "execution_count": 43,
   "metadata": {},
   "outputs": [
    {
     "data": {
      "image/png": "[encoded data removed]",
      "text/plain": [
       "<Figure size 432x288 with 1 Axes>"
      ]
     },
     "metadata": {
      "needs_background": "light"
     },
     "output_type": "display_data"
    }
   ],
   "source": [
    "disp = plot_precision_recall_curve(clf_gini, X_test, y_test)"
   ]
  },
  {
   "cell_type": "code",
   "execution_count": 44,
   "metadata": {},
   "outputs": [],
   "source": [
    "from sklearn.tree import export_graphviz\n"
   ]
  },
  {
   "cell_type": "code",
   "execution_count": null,
   "metadata": {},
   "outputs": [],
   "source": [
    "export_graphviz(\n",
    "clf_gini,\n",
    "out_file=dot_data,\n",
    "feature_names=['avg_receive_packet_duration', 'avg_receive_packet_size',\n",
    "       'avg_send_packet_duration', 'avg_send_packet_size',\n",
    "       'max_receive_packet_duration', 'max_receive_packet_size',\n",
    "       'max_receive_sequence_packet_count', 'max_send_packet_duration',\n",
    "       'max_send_packet_size', 'max_send_sequence_packet_count',\n",
    "       'min_receive_packet_duration', 'min_receive_packet_size',\n",
    "       'min_send_packet_duration', 'min_send_packet_size',\n",
    "       'stddev_receive_packet_duration', 'stddev_receive_packet_size',\n",
    "       'stddev_send_packet_duration', 'stddev_send_packet_size'],\n",
    "class_names=['ins','null'],\n",
    "rounded=True,\n",
    "filled=True\n",
    ")"
   ]
  }
 ],
 "metadata": {
  "kernelspec": {
   "display_name": "Python 3",
   "language": "python",
   "name": "python3"
  },
  "language_info": {
   "codemirror_mode": {
    "name": "ipython",
    "version": 3
   },
   "file_extension": ".py",
   "mimetype": "text/x-python",
   "name": "python",
   "nbconvert_exporter": "python",
   "pygments_lexer": "ipython3",
   "version": "3.8.5"
  }
 },
 "nbformat": 4,
 "nbformat_minor": 4
}
