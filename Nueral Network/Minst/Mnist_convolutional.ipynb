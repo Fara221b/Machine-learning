{
 "cells": [
  {
   "cell_type": "code",
   "execution_count": 1,
   "metadata": {},
   "outputs": [],
   "source": [
    "from keras.datasets import mnist\n",
    "from matplotlib import pyplot"
   ]
  },
  {
   "cell_type": "code",
   "execution_count": 2,
   "metadata": {},
   "outputs": [],
   "source": [
    "(trainX, trainy), (testX, testy) = mnist.load_data()"
   ]
  },
  {
   "cell_type": "code",
   "execution_count": 8,
   "metadata": {},
   "outputs": [],
   "source": [
    "trainX = trainX.reshape((trainX.shape[0], 28, 28, 1)).astype('float32')\n",
    "testX = testX.reshape((testX.shape[0], 28, 28, 1)).astype('float32')"
   ]
  },
  {
   "cell_type": "code",
   "execution_count": 9,
   "metadata": {},
   "outputs": [],
   "source": [
    "trainX = trainX /255\n",
    "testX = testX /255"
   ]
  },
  {
   "cell_type": "code",
   "execution_count": 10,
   "metadata": {},
   "outputs": [
    {
     "name": "stdout",
     "output_type": "stream",
     "text": [
      "(60000,)\n",
      "(60000, 10)\n"
     ]
    }
   ],
   "source": [
    "from keras.utils import np_utils\n",
    "\n",
    "print(trainy.shape)\n",
    "\n",
    "y_train = np_utils.to_categorical(trainy)\n",
    "y_test = np_utils.to_categorical(testy)\n",
    "print(y_train.shape)"
   ]
  },
  {
   "cell_type": "code",
   "execution_count": 11,
   "metadata": {},
   "outputs": [],
   "source": [
    "from keras.models import Sequential\n",
    "from keras.layers import Conv2D\n",
    "from keras.layers import MaxPooling2D\n",
    "from keras.layers import Dense\n",
    "from keras.layers import Flatten\n",
    "from keras import optimizers"
   ]
  },
  {
   "cell_type": "code",
   "execution_count": 32,
   "metadata": {},
   "outputs": [],
   "source": [
    "net = Sequential()\n",
    "net.add(Conv2D(32, (3, 3), activation='relu', kernel_initializer='he_uniform', input_shape=(28, 28, 1)))\n",
    "net.add(MaxPooling2D((2, 2)))\n",
    "net.add(Flatten())\n",
    "net.add(Dense(64, activation='relu', kernel_initializer='he_uniform'))\n",
    "net.add(Dense(100, activation='relu'))\n",
    "net.add(Dense(10, activation='softmax'))"
   ]
  },
  {
   "cell_type": "code",
   "execution_count": 33,
   "metadata": {},
   "outputs": [],
   "source": [
    "import keras.metrics\n",
    "# net.compile(loss='mean_squared_error', optimizer = optimizers.SGD(learning_rate=0.1),metrics= ['accuracy'])\n",
    "net.compile(loss = 'categorical_crossentropy', optimizer = 'adam',\n",
    "            metrics=[keras.metrics.Precision(), keras.metrics.Recall()])#metrics= ['accuracy'])"
   ]
  },
  {
   "cell_type": "code",
   "execution_count": 34,
   "metadata": {},
   "outputs": [
    {
     "name": "stdout",
     "output_type": "stream",
     "text": [
      "Model: \"sequential_6\"\n",
      "_________________________________________________________________\n",
      "Layer (type)                 Output Shape              Param #   \n",
      "=================================================================\n",
      "conv2d_6 (Conv2D)            (None, 26, 26, 32)        320       \n",
      "_________________________________________________________________\n",
      "max_pooling2d_1 (MaxPooling2 (None, 13, 13, 32)        0         \n",
      "_________________________________________________________________\n",
      "flatten_5 (Flatten)          (None, 5408)              0         \n",
      "_________________________________________________________________\n",
      "dense_13 (Dense)             (None, 64)                346176    \n",
      "_________________________________________________________________\n",
      "dense_14 (Dense)             (None, 100)               6500      \n",
      "_________________________________________________________________\n",
      "dense_15 (Dense)             (None, 10)                1010      \n",
      "=================================================================\n",
      "Total params: 354,006\n",
      "Trainable params: 354,006\n",
      "Non-trainable params: 0\n",
      "_________________________________________________________________\n"
     ]
    }
   ],
   "source": [
    "net.summary()"
   ]
  },
  {
   "cell_type": "code",
   "execution_count": 35,
   "metadata": {},
   "outputs": [
    {
     "name": "stdout",
     "output_type": "stream",
     "text": [
      "Epoch 1/10\n",
      "600/600 [==============================] - 24s 36ms/step - loss: 1.3691 - precision_6: 0.8046 - recall_6: 0.3186\n",
      "Epoch 2/10\n",
      "600/600 [==============================] - 19s 32ms/step - loss: 0.3555 - precision_6: 0.9210 - recall_6: 0.8736\n",
      "Epoch 3/10\n",
      "600/600 [==============================] - 20s 33ms/step - loss: 0.2680 - precision_6: 0.9369 - recall_6: 0.9053\n",
      "Epoch 4/10\n",
      "600/600 [==============================] - 18s 29ms/step - loss: 0.2166 - precision_6: 0.9490 - recall_6: 0.9230\n",
      "Epoch 5/10\n",
      "600/600 [==============================] - 18s 30ms/step - loss: 0.1730 - precision_6: 0.9579 - recall_6: 0.9384\n",
      "Epoch 6/10\n",
      "600/600 [==============================] - 17s 29ms/step - loss: 0.1389 - precision_6: 0.9662 - recall_6: 0.9515\n",
      "Epoch 7/10\n",
      "600/600 [==============================] - 17s 29ms/step - loss: 0.1140 - precision_6: 0.9717 - recall_6: 0.9606\n",
      "Epoch 8/10\n",
      "600/600 [==============================] - 18s 30ms/step - loss: 0.0948 - precision_6: 0.9762 - recall_6: 0.9668\n",
      "Epoch 9/10\n",
      "600/600 [==============================] - 18s 30ms/step - loss: 0.0885 - precision_6: 0.9785 - recall_6: 0.9704\n",
      "Epoch 10/10\n",
      "600/600 [==============================] - 19s 32ms/step - loss: 0.0728 - precision_6: 0.9817 - recall_6: 0.9745\n"
     ]
    },
    {
     "data": {
      "text/plain": [
       "<keras.callbacks.History at 0x7feec014e4c0>"
      ]
     },
     "execution_count": 35,
     "metadata": {},
     "output_type": "execute_result"
    }
   ],
   "source": [
    "net.fit(trainX, y_train, epochs= 10, batch_size = 100)"
   ]
  },
  {
   "cell_type": "code",
   "execution_count": 36,
   "metadata": {},
   "outputs": [
    {
     "name": "stdout",
     "output_type": "stream",
     "text": [
      "313/313 [==============================] - 3s 5ms/step - loss: 0.0717 - precision_6: 0.9802 - recall_6: 0.9748\n"
     ]
    },
    {
     "data": {
      "text/plain": [
       "[0.0716693326830864, 0.9801910519599915, 0.9747999906539917]"
      ]
     },
     "execution_count": 36,
     "metadata": {},
     "output_type": "execute_result"
    }
   ],
   "source": [
    "net.evaluate(testX, y_test)"
   ]
  }
 ],
 "metadata": {
  "kernelspec": {
   "display_name": "Python 3",
   "language": "python",
   "name": "python3"
  },
  "language_info": {
   "codemirror_mode": {
    "name": "ipython",
    "version": 3
   },
   "file_extension": ".py",
   "mimetype": "text/x-python",
   "name": "python",
   "nbconvert_exporter": "python",
   "pygments_lexer": "ipython3",
   "version": "3.8.5"
  }
 },
 "nbformat": 4,
 "nbformat_minor": 4
}
